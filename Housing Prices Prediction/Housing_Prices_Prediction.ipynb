{
  "nbformat": 4,
  "nbformat_minor": 0,
  "metadata": {
    "colab": {
      "provenance": [],
      "gpuType": "T4"
    },
    "kernelspec": {
      "name": "python3",
      "display_name": "Python 3"
    },
    "language_info": {
      "name": "python"
    },
    "accelerator": "GPU"
  },
  "cells": [
    {
      "cell_type": "markdown",
      "source": [
        "## Importing Libraries"
      ],
      "metadata": {
        "id": "NnY-BTj2KHex"
      }
    },
    {
      "cell_type": "code",
      "execution_count": 3,
      "metadata": {
        "id": "bWqe0d9qKEOB"
      },
      "outputs": [],
      "source": [
        "# data prerprocessing libraries\n",
        "import pandas as pd\n",
        "import numpy as np\n",
        "from sklearn.model_selection import train_test_split\n",
        "\n",
        "# machine learning libraries\n",
        "from sklearn.linear_model import LinearRegression\n",
        "from sklearn.svm import SVR\n",
        "from sklearn.tree import DecisionTreeRegressor\n",
        "from sklearn.ensemble import RandomForestRegressor\n",
        "from sklearn.model_selection import GridSearchCV\n",
        "from xgboost import XGBRegressor\n",
        "\n",
        "# metrics libraries\n",
        "from sklearn.metrics import r2_score\n",
        "from sklearn.metrics import mean_absolute_error\n",
        "\n",
        "# other libraries\n",
        "import time"
      ]
    },
    {
      "cell_type": "markdown",
      "source": [
        "## Data Preprocessing"
      ],
      "metadata": {
        "id": "pI4dn33nKWwV"
      }
    },
    {
      "cell_type": "markdown",
      "source": [
        "### Data Loading"
      ],
      "metadata": {
        "id": "BY1HOPF3Kcy1"
      }
    },
    {
      "cell_type": "code",
      "source": [
        "# loading dataset\n",
        "dataset = pd.read_csv('train.csv')\n",
        "\n",
        "# splitting the target column\n",
        "target = dataset['SalePrice']\n",
        "\n",
        "# dropping unnecessary columns from the dataset\n",
        "dataset = dataset.drop(columns = ['Id', 'SalePrice', 'MiscFeature', 'MiscVal'])"
      ],
      "metadata": {
        "id": "uhiJeOx7KLnL"
      },
      "execution_count": 5,
      "outputs": []
    },
    {
      "cell_type": "markdown",
      "source": [
        "### Data Exploration"
      ],
      "metadata": {
        "id": "ljldi58SOPY1"
      }
    },
    {
      "cell_type": "code",
      "source": [
        "# total features\n",
        "n_features = len(dataset.columns)\n",
        "print(f\"TOTAL FEATURES: {n_features}\")\n",
        "\n",
        "# feature column names\n",
        "print(f\"\\nFEATURES: {dataset.columns}\")\n",
        "\n",
        "# features and their data types\n",
        "data_types = list(dataset.dtypes.unique())\n",
        "dataset_dtypes = dict(dataset.dtypes)\n",
        "\n",
        "for datatype in data_types:\n",
        "    print(f\"\\nFEATURES WITH {datatype} DATATYPE:\\n\")\n",
        "    print([k for k, v in dataset_dtypes.items() if v == datatype])\n",
        "\n",
        "# missing values in the dataset\n",
        "print(\"\\nMISSING VALUES:\\n\")\n",
        "for feature in dataset.columns:\n",
        "    if dataset[feature].isna().sum() > 0:\n",
        "        print(f\"{feature}: {dataset[feature].isna().sum()}: {dataset_dtypes[feature]}\")"
      ],
      "metadata": {
        "colab": {
          "base_uri": "https://localhost:8080/"
        },
        "id": "V0dhlvT5ON2l",
        "outputId": "cb8aff8a-65d8-43be-c035-7b78b309962e"
      },
      "execution_count": 6,
      "outputs": [
        {
          "output_type": "stream",
          "name": "stdout",
          "text": [
            "TOTAL FEATURES: 77\n",
            "\n",
            "FEATURES: Index(['MSSubClass', 'MSZoning', 'LotFrontage', 'LotArea', 'Street', 'Alley',\n",
            "       'LotShape', 'LandContour', 'Utilities', 'LotConfig', 'LandSlope',\n",
            "       'Neighborhood', 'Condition1', 'Condition2', 'BldgType', 'HouseStyle',\n",
            "       'OverallQual', 'OverallCond', 'YearBuilt', 'YearRemodAdd', 'RoofStyle',\n",
            "       'RoofMatl', 'Exterior1st', 'Exterior2nd', 'MasVnrType', 'MasVnrArea',\n",
            "       'ExterQual', 'ExterCond', 'Foundation', 'BsmtQual', 'BsmtCond',\n",
            "       'BsmtExposure', 'BsmtFinType1', 'BsmtFinSF1', 'BsmtFinType2',\n",
            "       'BsmtFinSF2', 'BsmtUnfSF', 'TotalBsmtSF', 'Heating', 'HeatingQC',\n",
            "       'CentralAir', 'Electrical', '1stFlrSF', '2ndFlrSF', 'LowQualFinSF',\n",
            "       'GrLivArea', 'BsmtFullBath', 'BsmtHalfBath', 'FullBath', 'HalfBath',\n",
            "       'BedroomAbvGr', 'KitchenAbvGr', 'KitchenQual', 'TotRmsAbvGrd',\n",
            "       'Functional', 'Fireplaces', 'FireplaceQu', 'GarageType', 'GarageYrBlt',\n",
            "       'GarageFinish', 'GarageCars', 'GarageArea', 'GarageQual', 'GarageCond',\n",
            "       'PavedDrive', 'WoodDeckSF', 'OpenPorchSF', 'EnclosedPorch', '3SsnPorch',\n",
            "       'ScreenPorch', 'PoolArea', 'PoolQC', 'Fence', 'MoSold', 'YrSold',\n",
            "       'SaleType', 'SaleCondition'],\n",
            "      dtype='object')\n",
            "\n",
            "FEATURES WITH int64 DATATYPE:\n",
            "\n",
            "['MSSubClass', 'LotArea', 'OverallQual', 'OverallCond', 'YearBuilt', 'YearRemodAdd', 'BsmtFinSF1', 'BsmtFinSF2', 'BsmtUnfSF', 'TotalBsmtSF', '1stFlrSF', '2ndFlrSF', 'LowQualFinSF', 'GrLivArea', 'BsmtFullBath', 'BsmtHalfBath', 'FullBath', 'HalfBath', 'BedroomAbvGr', 'KitchenAbvGr', 'TotRmsAbvGrd', 'Fireplaces', 'GarageCars', 'GarageArea', 'WoodDeckSF', 'OpenPorchSF', 'EnclosedPorch', '3SsnPorch', 'ScreenPorch', 'PoolArea', 'MoSold', 'YrSold']\n",
            "\n",
            "FEATURES WITH object DATATYPE:\n",
            "\n",
            "['MSZoning', 'Street', 'Alley', 'LotShape', 'LandContour', 'Utilities', 'LotConfig', 'LandSlope', 'Neighborhood', 'Condition1', 'Condition2', 'BldgType', 'HouseStyle', 'RoofStyle', 'RoofMatl', 'Exterior1st', 'Exterior2nd', 'MasVnrType', 'ExterQual', 'ExterCond', 'Foundation', 'BsmtQual', 'BsmtCond', 'BsmtExposure', 'BsmtFinType1', 'BsmtFinType2', 'Heating', 'HeatingQC', 'CentralAir', 'Electrical', 'KitchenQual', 'Functional', 'FireplaceQu', 'GarageType', 'GarageFinish', 'GarageQual', 'GarageCond', 'PavedDrive', 'PoolQC', 'Fence', 'SaleType', 'SaleCondition']\n",
            "\n",
            "FEATURES WITH float64 DATATYPE:\n",
            "\n",
            "['LotFrontage', 'MasVnrArea', 'GarageYrBlt']\n",
            "\n",
            "MISSING VALUES:\n",
            "\n",
            "LotFrontage: 259: float64\n",
            "Alley: 1369: object\n",
            "MasVnrType: 8: object\n",
            "MasVnrArea: 8: float64\n",
            "BsmtQual: 37: object\n",
            "BsmtCond: 37: object\n",
            "BsmtExposure: 38: object\n",
            "BsmtFinType1: 37: object\n",
            "BsmtFinType2: 38: object\n",
            "Electrical: 1: object\n",
            "FireplaceQu: 690: object\n",
            "GarageType: 81: object\n",
            "GarageYrBlt: 81: float64\n",
            "GarageFinish: 81: object\n",
            "GarageQual: 81: object\n",
            "GarageCond: 81: object\n",
            "PoolQC: 1453: object\n",
            "Fence: 1179: object\n"
          ]
        }
      ]
    },
    {
      "cell_type": "markdown",
      "source": [
        "### Imputing Missing Values"
      ],
      "metadata": {
        "id": "gomGkkTVOl8m"
      }
    },
    {
      "cell_type": "code",
      "source": [
        "missing_vals = {\"LotFrontage\": np.mean(dataset[\"LotFrontage\"]),\n",
        "               \"Alley\": \"Pave\",\n",
        "               \"MasVnrType\": \"None\",\n",
        "               \"MasVnrArea\": np.mean(dataset[\"MasVnrArea\"]),\n",
        "               \"BsmtQual\": dataset[\"BsmtQual\"].mode(dropna = True).values[0],\n",
        "               \"BsmtCond\": dataset[\"BsmtCond\"].mode(dropna = True).values[0],\n",
        "               \"BsmtExposure\": \"No\",\n",
        "               \"BsmtFinType1\": \"Unf\",\n",
        "               \"BsmtFinType2\": \"No\",\n",
        "               \"Electrical\": dataset[\"Electrical\"].mode(dropna = True).values[0],\n",
        "               \"FireplaceQu\": dataset[\"FireplaceQu\"].mode(dropna = True).values[0],\n",
        "               \"GarageType\": dataset[\"GarageType\"].mode(dropna = True).values[0],\n",
        "               \"GarageYrBlt\": dataset[\"GarageYrBlt\"].median(skipna = True),\n",
        "               \"GarageFinish\": dataset[\"GarageFinish\"].mode(dropna = True).values[0],\n",
        "               \"GarageQual\": dataset[\"GarageQual\"].mode(dropna = True).values[0],\n",
        "               \"GarageCond\": dataset[\"GarageCond\"].mode(dropna = True).values[0],\n",
        "               \"PoolQC\": dataset[\"PoolQC\"].mode(dropna = True).values[0],\n",
        "               \"Fence\": dataset[\"Fence\"].mode(dropna = True).values[0]}\n",
        "\n",
        "dataset = dataset.fillna(value = missing_vals)\n",
        "\n",
        "print(\"MISSING VALUES:\\n\")\n",
        "if dataset.isna().values.any() == False:\n",
        "    print(\"NO MISSING VALUES\")\n",
        "else:\n",
        "    print(\"MISSING VALUES FOUND. PLEASE CHECK DATASET AGAIN\")"
      ],
      "metadata": {
        "colab": {
          "base_uri": "https://localhost:8080/"
        },
        "id": "TSDpDod6Oc-d",
        "outputId": "ff9d7074-6d33-411d-a3c6-a5a78a806c23"
      },
      "execution_count": 7,
      "outputs": [
        {
          "output_type": "stream",
          "name": "stdout",
          "text": [
            "MISSING VALUES:\n",
            "\n",
            "NO MISSING VALUES\n"
          ]
        }
      ]
    },
    {
      "cell_type": "markdown",
      "source": [
        "### Encoding Categorical Data"
      ],
      "metadata": {
        "id": "xZTl4_oAO9IL"
      }
    },
    {
      "cell_type": "code",
      "source": [
        "dataset = pd.get_dummies(dataset)"
      ],
      "metadata": {
        "id": "VrZGjuxOO591"
      },
      "execution_count": 8,
      "outputs": []
    },
    {
      "cell_type": "markdown",
      "source": [
        "### Splitting Data into Train and Test Set"
      ],
      "metadata": {
        "id": "0tcRsjERPR0q"
      }
    },
    {
      "cell_type": "code",
      "source": [
        "X_train, X_test, y_train, y_test = train_test_split(dataset, target, test_size = 0.2)"
      ],
      "metadata": {
        "id": "TTy-xSJvPUa8"
      },
      "execution_count": 9,
      "outputs": []
    },
    {
      "cell_type": "markdown",
      "source": [
        "## Linear Regression"
      ],
      "metadata": {
        "id": "8hm8oJInPpN6"
      }
    },
    {
      "cell_type": "code",
      "source": [
        "# modelling\n",
        "linear_regressor = LinearRegression()\n",
        "linear_regressor.fit(X_train, y_train)\n",
        "\n",
        "# predicting\n",
        "ypred_linearRegression = linear_regressor.predict(X_test)\n",
        "\n",
        "# evaluation\n",
        "linearRegression_r2 = r2_score(y_test, ypred_linearRegression)\n",
        "print(f\"R2 Score: {linearRegression_r2}\")\n",
        "\n",
        "linearRegression_mae = mean_absolute_error(y_test, ypred_linearRegression)\n",
        "print(f\"Mean Absolute Error (MAE): {linearRegression_mae}\")"
      ],
      "metadata": {
        "colab": {
          "base_uri": "https://localhost:8080/"
        },
        "id": "0KLB9z0PDg7x",
        "outputId": "2fbe021a-2150-46c8-cd62-be454ad160a6"
      },
      "execution_count": null,
      "outputs": [
        {
          "output_type": "stream",
          "name": "stdout",
          "text": [
            "R2 Score: 0.8811433982648353\n",
            "Mean Absolute Error (MAE): 18053.572344074524\n"
          ]
        }
      ]
    },
    {
      "cell_type": "markdown",
      "source": [
        "## Support Vector Regression"
      ],
      "metadata": {
        "id": "IOswJzn7FPpT"
      }
    },
    {
      "cell_type": "code",
      "source": [
        "# grid search\n",
        "svr = SVR()\n",
        "svr_params = {'kernel': ['linear', 'poly', 'rbf', 'sigmoid'],\n",
        "          'degree': [1, 3, 5]}\n",
        "scoring = {'r2', 'neg_mean_absolute_error'}\n",
        "svr_gridsearch = GridSearchCV(svr, svr_params, scoring = scoring, refit = 'neg_mean_absolute_error', cv = 5)\n",
        "\n",
        "# modelling\n",
        "svr_gridsearch.fit(X_train, y_train)\n",
        "print(\"Best Parameters: \", svr_gridsearch.best_params_)\n",
        "\n",
        "# predicting\n",
        "ypred_SVR = svr_gridsearch.predict(X_test)\n",
        "\n",
        "# evaluation\n",
        "svr_r2 = r2_score(y_test, ypred_SVR)\n",
        "print(f\"R2 Score: {svr_r2}\")\n",
        "\n",
        "svr_mae = mean_absolute_error(y_test, ypred_SVR)\n",
        "print(f\"Mean Absolute Error (MAE): {svr_mae}\")"
      ],
      "metadata": {
        "colab": {
          "base_uri": "https://localhost:8080/"
        },
        "id": "qbGy0trFFRSN",
        "outputId": "2001ea06-168e-44e3-9b27-c23ac2f885da"
      },
      "execution_count": null,
      "outputs": [
        {
          "output_type": "stream",
          "name": "stdout",
          "text": [
            "Best Parameters:  {'degree': 1, 'kernel': 'linear'}\n",
            "R2 Score: 0.7796873450211113\n",
            "Mean Absolute Error (MAE): 24332.061036062158\n"
          ]
        }
      ]
    },
    {
      "cell_type": "markdown",
      "source": [
        "## Decision Tree Regression"
      ],
      "metadata": {
        "id": "3RttgxVhaaGF"
      }
    },
    {
      "cell_type": "code",
      "source": [
        "# grid search\n",
        "dtr = DecisionTreeRegressor()\n",
        "dtr_params = {'criterion': ['squared_error', 'friedman_mse', 'absolute_error', 'poisson'],\n",
        "              'splitter': ['random', 'best'],\n",
        "              'min_samples_split': [3, 0.5],\n",
        "              'max_features': [2, 0.5, 'sqrt', 'log2']}\n",
        "scoring = {'r2', 'neg_mean_absolute_error'}\n",
        "dtr_gridsearch = GridSearchCV(dtr, dtr_params, scoring = 'neg_mean_absolute_error', cv = 5)\n",
        "\n",
        "# modelling\n",
        "dtr_gridsearch.fit(X_train, y_train)\n",
        "print(\"Best Parameters: \", dtr_gridsearch.best_params_)\n",
        "\n",
        "# predicting\n",
        "ypred_DTR = dtr_gridsearch.predict(X_test)\n",
        "\n",
        "# evaluation\n",
        "dtr_r2 = r2_score(y_test, ypred_DTR)\n",
        "print(f\"R2 Score: {dtr_r2}\")\n",
        "\n",
        "dtr_mae = mean_absolute_error(y_test, ypred_DTR)\n",
        "print(f\"Mean Absolute Error (MAE): {dtr_mae}\")"
      ],
      "metadata": {
        "colab": {
          "base_uri": "https://localhost:8080/"
        },
        "id": "qFxzIrMYP8gA",
        "outputId": "ebbf4d81-ff28-4217-91cb-6c3c6c41a860"
      },
      "execution_count": null,
      "outputs": [
        {
          "output_type": "stream",
          "name": "stdout",
          "text": [
            "Best Parameters:  {'criterion': 'absolute_error', 'max_features': 0.5, 'min_samples_split': 3, 'splitter': 'best'}\n",
            "R2 Score: 0.7451960949127842\n",
            "Mean Absolute Error (MAE): 28223.755136986303\n"
          ]
        }
      ]
    },
    {
      "cell_type": "markdown",
      "source": [
        "## Random Forest Regression"
      ],
      "metadata": {
        "id": "DRTyw7LSefJc"
      }
    },
    {
      "cell_type": "code",
      "source": [
        "# grid search\n",
        "rf = RandomForestRegressor()\n",
        "rf_params = {'n_estimators': [100, 200],\n",
        "             'min_samples_split': [3, 0.5],\n",
        "             'max_depth': [3, 5],\n",
        "             }\n",
        "rf_gridsearch = GridSearchCV(rf, rf_params, scoring = 'neg_mean_absolute_error', cv = 5)\n",
        "\n",
        "# modelling\n",
        "rf_gridsearch.fit(X_train, y_train)\n",
        "print(\"Best Parameters: \", rf_gridsearch.best_params_)\n",
        "\n",
        "# predicting\n",
        "ypred_RF = rf_gridsearch.predict(X_test)\n",
        "\n",
        "# evaluation\n",
        "rf_r2 = r2_score(y_test, ypred_RF)\n",
        "print(f\"R2 Score: {rf_r2}\")\n",
        "\n",
        "rf_mae = mean_absolute_error(y_test, ypred_RF)\n",
        "print(f\"Mean Absolute Error (MAE): {rf_mae}\")"
      ],
      "metadata": {
        "colab": {
          "base_uri": "https://localhost:8080/"
        },
        "id": "25Z_7iYLddiC",
        "outputId": "30672b83-b0a8-4f0b-af06-1b6b3ea00189"
      },
      "execution_count": null,
      "outputs": [
        {
          "output_type": "stream",
          "name": "stdout",
          "text": [
            "Best Parameters:  {'max_depth': 5, 'min_samples_split': 3, 'n_estimators': 200}\n",
            "R2 Score: 0.8428823251541103\n",
            "Mean Absolute Error (MAE): 21381.583523691235\n"
          ]
        }
      ]
    },
    {
      "cell_type": "markdown",
      "source": [
        "## XGBoost"
      ],
      "metadata": {
        "id": "dHA38dB51gNo"
      }
    },
    {
      "cell_type": "code",
      "source": [
        "# grid search\n",
        "xgb = XGBRegressor()\n",
        "xgb_params = {'n_estimators': [100, 300],\n",
        "              'max_depth': [3, 5, 7],\n",
        "              'eta': [0.3, 0.1, 0.01],\n",
        "              'subsample': [0.5, 1],\n",
        "              'colsample_bytree': [0.5, 1]}\n",
        "xgb_gridsearch = GridSearchCV(xgb, xgb_params, scoring = 'neg_mean_absolute_error', cv = 5)\n",
        "\n",
        "# modelling\n",
        "xgb_gridsearch.fit(X_train, y_train)\n",
        "print(\"Best Parameters: \", xgb_gridsearch.best_params_)\n",
        "\n",
        "# predicting\n",
        "ypred_XGB = xgb_gridsearch.predict(X_test)\n",
        "\n",
        "# evaluation\n",
        "xgb_r2 = r2_score(y_test, ypred_XGB)\n",
        "print(f\"R2 Score: {xgb_r2}\")\n",
        "\n",
        "xgb_mae = mean_absolute_error(y_test, ypred_XGB)\n",
        "print(f\"Mean Absolute Error (MAE): {xgb_mae}\")"
      ],
      "metadata": {
        "colab": {
          "base_uri": "https://localhost:8080/"
        },
        "id": "-rFvjYS11hcG",
        "outputId": "c16d27a8-5e08-4bc7-b81c-44c665621dcc"
      },
      "execution_count": 14,
      "outputs": [
        {
          "output_type": "stream",
          "name": "stdout",
          "text": [
            "Best Parameters:  {'colsample_bytree': 0.5, 'eta': 0.1, 'max_depth': 3, 'n_estimators': 300, 'subsample': 1}\n",
            "R2 Score: 0.927513948978635\n",
            "Mean Absolute Error (MAE): 14120.409581014555\n"
          ]
        }
      ]
    },
    {
      "cell_type": "code",
      "source": [],
      "metadata": {
        "id": "4VSKkWjE2qXu"
      },
      "execution_count": null,
      "outputs": []
    }
  ]
}
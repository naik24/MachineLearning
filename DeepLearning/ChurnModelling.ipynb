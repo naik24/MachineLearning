{
 "cells": [
  {
   "cell_type": "markdown",
   "metadata": {},
   "source": [
    "# Data Preprocessing"
   ]
  },
  {
   "cell_type": "code",
   "execution_count": 2,
   "metadata": {
    "id": "KI_0Z1hSteeb"
   },
   "outputs": [],
   "source": [
    "import numpy as np\n",
    "import pandas as pd\n",
    "import tensorflow as tf\n",
    "\n",
    "# reading the dataset and splitting into target and features\n",
    "dataset = pd.read_csv('Churn_Modelling.csv')\n",
    "X = dataset.iloc[:, 3:-1].values\n",
    "y = dataset.iloc[:, -1].values\n",
    "\n",
    "# label encoding the categorical values\n",
    "from sklearn.preprocessing import LabelEncoder\n",
    "le = LabelEncoder()\n",
    "X[:, 2] = le.fit_transform(X[:, 2])\n",
    "\n",
    "# one hot encoding\n",
    "from sklearn.compose import ColumnTransformer\n",
    "from sklearn.preprocessing import OneHotEncoder\n",
    "ct = ColumnTransformer(transformers = [('encoder', OneHotEncoder(), [1])], remainder = 'passthrough')\n",
    "X = np.array(ct.fit_transform(X))\n",
    "\n",
    "# splitting the dataset into training and test sets\n",
    "from sklearn.model_selection import train_test_split\n",
    "X_train, X_test, y_train, y_test = train_test_split(X, y, test_size = 0.2, random_state = 0)\n",
    "\n",
    "# standardizing the dataset\n",
    "from sklearn.preprocessing import StandardScaler\n",
    "sc = StandardScaler()\n",
    "X_train = sc.fit_transform(X_train)\n",
    "X_test = sc.transform(X_test)"
   ]
  },
  {
   "cell_type": "markdown",
   "metadata": {},
   "source": [
    "# Building ANN"
   ]
  },
  {
   "cell_type": "code",
   "execution_count": 3,
   "metadata": {
    "id": "q6acoD6Pv8Yy"
   },
   "outputs": [],
   "source": [
    "# building the model\n",
    "ann = tf.keras.models.Sequential()\n",
    "ann.add(tf.keras.layers.Dense(units = 6, activation = 'relu'))\n",
    "ann.add(tf.keras.layers.Dense(units = 6, activation = 'relu'))\n",
    "ann.add(tf.keras.layers.Dense(units = 1, activation = 'sigmoid'))"
   ]
  },
  {
   "cell_type": "code",
   "execution_count": 4,
   "metadata": {
    "id": "ZJCiRyaiwRHc"
   },
   "outputs": [],
   "source": [
    "ann.compile(optimizer = 'adam', loss = 'binary_crossentropy', metrics = ['accuracy'])"
   ]
  },
  {
   "cell_type": "code",
   "execution_count": 5,
   "metadata": {
    "colab": {
     "base_uri": "https://localhost:8080/"
    },
    "id": "x1NAeB6qwZ2T",
    "outputId": "8133fc1b-5301-4cc1-f715-8381640dbdca"
   },
   "outputs": [
    {
     "name": "stdout",
     "output_type": "stream",
     "text": [
      "Epoch 1/100\n"
     ]
    },
    {
     "name": "stderr",
     "output_type": "stream",
     "text": [
      "2023-01-10 12:44:42.149866: W tensorflow/core/platform/profile_utils/cpu_utils.cc:128] Failed to get CPU frequency: 0 Hz\n"
     ]
    },
    {
     "name": "stdout",
     "output_type": "stream",
     "text": [
      "250/250 [==============================] - 0s 470us/step - loss: 0.5791 - accuracy: 0.7496\n",
      "Epoch 2/100\n",
      "250/250 [==============================] - 0s 447us/step - loss: 0.4833 - accuracy: 0.7964\n",
      "Epoch 3/100\n",
      "250/250 [==============================] - 0s 437us/step - loss: 0.4502 - accuracy: 0.8065\n",
      "Epoch 4/100\n",
      "250/250 [==============================] - 0s 435us/step - loss: 0.4360 - accuracy: 0.8142\n",
      "Epoch 5/100\n",
      "250/250 [==============================] - 0s 432us/step - loss: 0.4257 - accuracy: 0.8220\n",
      "Epoch 6/100\n",
      "250/250 [==============================] - 0s 429us/step - loss: 0.4180 - accuracy: 0.8256\n",
      "Epoch 7/100\n",
      "250/250 [==============================] - 0s 442us/step - loss: 0.4122 - accuracy: 0.8269\n",
      "Epoch 8/100\n",
      "250/250 [==============================] - 0s 433us/step - loss: 0.4075 - accuracy: 0.8273\n",
      "Epoch 9/100\n",
      "250/250 [==============================] - 0s 430us/step - loss: 0.4027 - accuracy: 0.8275\n",
      "Epoch 10/100\n",
      "250/250 [==============================] - 0s 434us/step - loss: 0.3985 - accuracy: 0.8292\n",
      "Epoch 11/100\n",
      "250/250 [==============================] - 0s 437us/step - loss: 0.3938 - accuracy: 0.8291\n",
      "Epoch 12/100\n",
      "250/250 [==============================] - 0s 438us/step - loss: 0.3893 - accuracy: 0.8289\n",
      "Epoch 13/100\n",
      "250/250 [==============================] - 0s 435us/step - loss: 0.3841 - accuracy: 0.8326\n",
      "Epoch 14/100\n",
      "250/250 [==============================] - 0s 436us/step - loss: 0.3786 - accuracy: 0.8357\n",
      "Epoch 15/100\n",
      "250/250 [==============================] - 0s 436us/step - loss: 0.3720 - accuracy: 0.8431\n",
      "Epoch 16/100\n",
      "250/250 [==============================] - 0s 435us/step - loss: 0.3650 - accuracy: 0.8478\n",
      "Epoch 17/100\n",
      "250/250 [==============================] - 0s 437us/step - loss: 0.3590 - accuracy: 0.8497\n",
      "Epoch 18/100\n",
      "250/250 [==============================] - 0s 438us/step - loss: 0.3549 - accuracy: 0.8515\n",
      "Epoch 19/100\n",
      "250/250 [==============================] - 0s 432us/step - loss: 0.3512 - accuracy: 0.8556\n",
      "Epoch 20/100\n",
      "250/250 [==============================] - 0s 433us/step - loss: 0.3497 - accuracy: 0.8553\n",
      "Epoch 21/100\n",
      "250/250 [==============================] - 0s 438us/step - loss: 0.3470 - accuracy: 0.8577\n",
      "Epoch 22/100\n",
      "250/250 [==============================] - 0s 438us/step - loss: 0.3456 - accuracy: 0.8558\n",
      "Epoch 23/100\n",
      "250/250 [==============================] - 0s 438us/step - loss: 0.3441 - accuracy: 0.8561\n",
      "Epoch 24/100\n",
      "250/250 [==============================] - 0s 441us/step - loss: 0.3432 - accuracy: 0.8585\n",
      "Epoch 25/100\n",
      "250/250 [==============================] - 0s 435us/step - loss: 0.3417 - accuracy: 0.8590\n",
      "Epoch 26/100\n",
      "250/250 [==============================] - 0s 454us/step - loss: 0.3416 - accuracy: 0.8581\n",
      "Epoch 27/100\n",
      "250/250 [==============================] - 0s 438us/step - loss: 0.3404 - accuracy: 0.8574\n",
      "Epoch 28/100\n",
      "250/250 [==============================] - 0s 433us/step - loss: 0.3401 - accuracy: 0.8597\n",
      "Epoch 29/100\n",
      "250/250 [==============================] - 0s 433us/step - loss: 0.3398 - accuracy: 0.8589\n",
      "Epoch 30/100\n",
      "250/250 [==============================] - 0s 436us/step - loss: 0.3391 - accuracy: 0.8586\n",
      "Epoch 31/100\n",
      "250/250 [==============================] - 0s 447us/step - loss: 0.3387 - accuracy: 0.8589\n",
      "Epoch 32/100\n",
      "250/250 [==============================] - 0s 437us/step - loss: 0.3384 - accuracy: 0.8594\n",
      "Epoch 33/100\n",
      "250/250 [==============================] - 0s 438us/step - loss: 0.3379 - accuracy: 0.8586\n",
      "Epoch 34/100\n",
      "250/250 [==============================] - 0s 434us/step - loss: 0.3372 - accuracy: 0.8580\n",
      "Epoch 35/100\n",
      "250/250 [==============================] - 0s 436us/step - loss: 0.3371 - accuracy: 0.8606\n",
      "Epoch 36/100\n",
      "250/250 [==============================] - 0s 441us/step - loss: 0.3366 - accuracy: 0.8612\n",
      "Epoch 37/100\n",
      "250/250 [==============================] - 0s 433us/step - loss: 0.3367 - accuracy: 0.8622\n",
      "Epoch 38/100\n",
      "250/250 [==============================] - 0s 433us/step - loss: 0.3362 - accuracy: 0.8611\n",
      "Epoch 39/100\n",
      "250/250 [==============================] - 0s 440us/step - loss: 0.3356 - accuracy: 0.8619\n",
      "Epoch 40/100\n",
      "250/250 [==============================] - 0s 435us/step - loss: 0.3355 - accuracy: 0.8616\n",
      "Epoch 41/100\n",
      "250/250 [==============================] - 0s 435us/step - loss: 0.3352 - accuracy: 0.8634\n",
      "Epoch 42/100\n",
      "250/250 [==============================] - 0s 433us/step - loss: 0.3346 - accuracy: 0.8611\n",
      "Epoch 43/100\n",
      "250/250 [==============================] - 0s 433us/step - loss: 0.3344 - accuracy: 0.8611\n",
      "Epoch 44/100\n",
      "250/250 [==============================] - 0s 435us/step - loss: 0.3342 - accuracy: 0.8630\n",
      "Epoch 45/100\n",
      "250/250 [==============================] - 0s 440us/step - loss: 0.3340 - accuracy: 0.8627\n",
      "Epoch 46/100\n",
      "250/250 [==============================] - 0s 434us/step - loss: 0.3338 - accuracy: 0.8636\n",
      "Epoch 47/100\n",
      "250/250 [==============================] - 0s 442us/step - loss: 0.3335 - accuracy: 0.8629\n",
      "Epoch 48/100\n",
      "250/250 [==============================] - 0s 436us/step - loss: 0.3333 - accuracy: 0.8622\n",
      "Epoch 49/100\n",
      "250/250 [==============================] - 0s 437us/step - loss: 0.3330 - accuracy: 0.8616\n",
      "Epoch 50/100\n",
      "250/250 [==============================] - 0s 445us/step - loss: 0.3327 - accuracy: 0.8640\n",
      "Epoch 51/100\n",
      "250/250 [==============================] - 0s 450us/step - loss: 0.3324 - accuracy: 0.8627\n",
      "Epoch 52/100\n",
      "250/250 [==============================] - 0s 437us/step - loss: 0.3323 - accuracy: 0.8652\n",
      "Epoch 53/100\n",
      "250/250 [==============================] - 0s 436us/step - loss: 0.3325 - accuracy: 0.8625\n",
      "Epoch 54/100\n",
      "250/250 [==============================] - 0s 435us/step - loss: 0.3322 - accuracy: 0.8622\n",
      "Epoch 55/100\n",
      "250/250 [==============================] - 0s 440us/step - loss: 0.3318 - accuracy: 0.8624\n",
      "Epoch 56/100\n",
      "250/250 [==============================] - 0s 434us/step - loss: 0.3316 - accuracy: 0.8639\n",
      "Epoch 57/100\n",
      "250/250 [==============================] - 0s 431us/step - loss: 0.3317 - accuracy: 0.8621\n",
      "Epoch 58/100\n",
      "250/250 [==============================] - 0s 436us/step - loss: 0.3315 - accuracy: 0.8645\n",
      "Epoch 59/100\n",
      "250/250 [==============================] - 0s 434us/step - loss: 0.3316 - accuracy: 0.8614\n",
      "Epoch 60/100\n",
      "250/250 [==============================] - 0s 432us/step - loss: 0.3313 - accuracy: 0.8644\n",
      "Epoch 61/100\n",
      "250/250 [==============================] - 0s 438us/step - loss: 0.3313 - accuracy: 0.8637\n",
      "Epoch 62/100\n",
      "250/250 [==============================] - 0s 434us/step - loss: 0.3310 - accuracy: 0.8641\n",
      "Epoch 63/100\n",
      "250/250 [==============================] - 0s 440us/step - loss: 0.3307 - accuracy: 0.8641\n",
      "Epoch 64/100\n",
      "250/250 [==============================] - 0s 439us/step - loss: 0.3304 - accuracy: 0.8648\n",
      "Epoch 65/100\n",
      "250/250 [==============================] - 0s 436us/step - loss: 0.3306 - accuracy: 0.8630\n",
      "Epoch 66/100\n",
      "250/250 [==============================] - 0s 440us/step - loss: 0.3305 - accuracy: 0.8635\n",
      "Epoch 67/100\n",
      "250/250 [==============================] - 0s 435us/step - loss: 0.3304 - accuracy: 0.8646\n",
      "Epoch 68/100\n",
      "250/250 [==============================] - 0s 436us/step - loss: 0.3301 - accuracy: 0.8645\n",
      "Epoch 69/100\n",
      "250/250 [==============================] - 0s 452us/step - loss: 0.3299 - accuracy: 0.8643\n",
      "Epoch 70/100\n",
      "250/250 [==============================] - 0s 433us/step - loss: 0.3294 - accuracy: 0.8649\n",
      "Epoch 71/100\n",
      "250/250 [==============================] - 0s 434us/step - loss: 0.3295 - accuracy: 0.8644\n",
      "Epoch 72/100\n",
      "250/250 [==============================] - 0s 433us/step - loss: 0.3298 - accuracy: 0.8649\n",
      "Epoch 73/100\n",
      "250/250 [==============================] - 0s 442us/step - loss: 0.3297 - accuracy: 0.8627\n",
      "Epoch 74/100\n",
      "250/250 [==============================] - 0s 438us/step - loss: 0.3293 - accuracy: 0.8640\n",
      "Epoch 75/100\n",
      "250/250 [==============================] - 0s 434us/step - loss: 0.3291 - accuracy: 0.8651\n",
      "Epoch 76/100\n",
      "250/250 [==============================] - 0s 435us/step - loss: 0.3293 - accuracy: 0.8636\n",
      "Epoch 77/100\n",
      "250/250 [==============================] - 0s 436us/step - loss: 0.3292 - accuracy: 0.8641\n",
      "Epoch 78/100\n",
      "250/250 [==============================] - 0s 440us/step - loss: 0.3293 - accuracy: 0.8640\n",
      "Epoch 79/100\n",
      "250/250 [==============================] - 0s 441us/step - loss: 0.3288 - accuracy: 0.8662\n"
     ]
    },
    {
     "name": "stdout",
     "output_type": "stream",
     "text": [
      "Epoch 80/100\n",
      "250/250 [==============================] - 0s 434us/step - loss: 0.3288 - accuracy: 0.8627\n",
      "Epoch 81/100\n",
      "250/250 [==============================] - 0s 428us/step - loss: 0.3287 - accuracy: 0.8648\n",
      "Epoch 82/100\n",
      "250/250 [==============================] - 0s 429us/step - loss: 0.3288 - accuracy: 0.8649\n",
      "Epoch 83/100\n",
      "250/250 [==============================] - 0s 427us/step - loss: 0.3291 - accuracy: 0.8650\n",
      "Epoch 84/100\n",
      "250/250 [==============================] - 0s 429us/step - loss: 0.3288 - accuracy: 0.8637\n",
      "Epoch 85/100\n",
      "250/250 [==============================] - 0s 427us/step - loss: 0.3283 - accuracy: 0.8660\n",
      "Epoch 86/100\n",
      "250/250 [==============================] - 0s 424us/step - loss: 0.3285 - accuracy: 0.8645\n",
      "Epoch 87/100\n",
      "250/250 [==============================] - 0s 428us/step - loss: 0.3281 - accuracy: 0.8649\n",
      "Epoch 88/100\n",
      "250/250 [==============================] - 0s 427us/step - loss: 0.3284 - accuracy: 0.8649\n",
      "Epoch 89/100\n",
      "250/250 [==============================] - 0s 427us/step - loss: 0.3283 - accuracy: 0.8654\n",
      "Epoch 90/100\n",
      "250/250 [==============================] - 0s 427us/step - loss: 0.3282 - accuracy: 0.8656\n",
      "Epoch 91/100\n",
      "250/250 [==============================] - 0s 427us/step - loss: 0.3280 - accuracy: 0.8661\n",
      "Epoch 92/100\n",
      "250/250 [==============================] - 0s 429us/step - loss: 0.3281 - accuracy: 0.8652\n",
      "Epoch 93/100\n",
      "250/250 [==============================] - 0s 428us/step - loss: 0.3278 - accuracy: 0.8652\n",
      "Epoch 94/100\n",
      "250/250 [==============================] - 0s 431us/step - loss: 0.3284 - accuracy: 0.8651\n",
      "Epoch 95/100\n",
      "250/250 [==============================] - 0s 428us/step - loss: 0.3285 - accuracy: 0.8652\n",
      "Epoch 96/100\n",
      "250/250 [==============================] - 0s 425us/step - loss: 0.3279 - accuracy: 0.8673\n",
      "Epoch 97/100\n",
      "250/250 [==============================] - 0s 428us/step - loss: 0.3285 - accuracy: 0.8651\n",
      "Epoch 98/100\n",
      "250/250 [==============================] - 0s 430us/step - loss: 0.3281 - accuracy: 0.8656\n",
      "Epoch 99/100\n",
      "250/250 [==============================] - 0s 429us/step - loss: 0.3278 - accuracy: 0.8659\n",
      "Epoch 100/100\n",
      "250/250 [==============================] - 0s 430us/step - loss: 0.3283 - accuracy: 0.8645\n"
     ]
    },
    {
     "data": {
      "text/plain": [
       "<keras.callbacks.History at 0x2848c56f0>"
      ]
     },
     "execution_count": 5,
     "metadata": {},
     "output_type": "execute_result"
    }
   ],
   "source": [
    "ann.fit(X_train, y_train, batch_size = 32, epochs = 100)"
   ]
  },
  {
   "cell_type": "markdown",
   "metadata": {},
   "source": [
    "# Testing the Model"
   ]
  },
  {
   "cell_type": "markdown",
   "metadata": {
    "id": "CGRo3eacgDdC"
   },
   "source": [
    "**Example**\n",
    "\n",
    "Use our ANN model to predict if the customer with the following informations will leave the bank: \n",
    "\n",
    "Geography: France\n",
    "\n",
    "Credit Score: 600\n",
    "\n",
    "Gender: Male\n",
    "\n",
    "Age: 40 years old\n",
    "\n",
    "Tenure: 3 years\n",
    "\n",
    "Balance: \\$ 60000\n",
    "\n",
    "Number of Products: 2\n",
    "\n",
    "Does this customer have a credit card? Yes\n",
    "\n",
    "Is this customer an Active Member: Yes\n",
    "\n",
    "Estimated Salary: \\$ 50000\n",
    "\n",
    "So, should we say goodbye to that customer?"
   ]
  },
  {
   "cell_type": "code",
   "execution_count": 6,
   "metadata": {
    "colab": {
     "base_uri": "https://localhost:8080/"
    },
    "id": "1tNWDh_CxLOy",
    "outputId": "ad0b7a0f-ec16-4054-f665-893ba77c20c3"
   },
   "outputs": [
    {
     "name": "stdout",
     "output_type": "stream",
     "text": [
      "1/1 [==============================] - 0s 63ms/step\n",
      "[[False]]\n"
     ]
    }
   ],
   "source": [
    "print(ann.predict(sc.transform([[1, 0, 0, 600, 1, 40, 3, 60000, 2, 1, 1, 50000]])) > 0.5)"
   ]
  },
  {
   "cell_type": "markdown",
   "metadata": {
    "id": "wGjx94g2n7OV"
   },
   "source": [
    "**Important note 1:** Notice that the values of the features were all input in a double pair of square brackets. That's because the \"predict\" method always expects a 2D array as the format of its inputs. And putting our values into a double pair of square brackets makes the input exactly a 2D array.\n",
    "\n",
    "**Important note 2:** Notice also that the \"France\" country was not input as a string in the last column but as \"1, 0, 0\" in the first three columns. That's because of course the predict method expects the one-hot-encoded values of the state, and as we see in the first row of the matrix of features X, \"France\" was encoded as \"1, 0, 0\". And be careful to include these values in the first three columns, because the dummy variables are always created in the first columns."
   ]
  },
  {
   "cell_type": "code",
   "execution_count": 10,
   "metadata": {},
   "outputs": [
    {
     "name": "stdout",
     "output_type": "stream",
     "text": [
      "63/63 [==============================] - 0s 383us/step\n"
     ]
    }
   ],
   "source": [
    "# predicting outputs from test features\n",
    "y_pred = ann.predict(X_test)\n",
    "y_pred = (y_pred > 0.5)"
   ]
  },
  {
   "cell_type": "code",
   "execution_count": 11,
   "metadata": {
    "colab": {
     "base_uri": "https://localhost:8080/"
    },
    "id": "i3w3Y-80z9wT",
    "outputId": "f0277ae4-1676-4b4b-cd96-900ef2f291f2"
   },
   "outputs": [
    {
     "name": "stdout",
     "output_type": "stream",
     "text": [
      "[[1524   71]\n",
      " [ 199  206]]\n"
     ]
    },
    {
     "data": {
      "text/plain": [
       "0.865"
      ]
     },
     "execution_count": 11,
     "metadata": {},
     "output_type": "execute_result"
    }
   ],
   "source": [
    "# calculating accuracy\n",
    "from sklearn.metrics import confusion_matrix, accuracy_score\n",
    "cm = confusion_matrix(y_test, y_pred)\n",
    "print(cm)\n",
    "accuracy_score(y_test, y_pred)"
   ]
  }
 ],
 "metadata": {
  "colab": {
   "name": "ANN.ipynb",
   "provenance": []
  },
  "kernelspec": {
   "display_name": "Python 3 (ipykernel)",
   "language": "python",
   "name": "python3"
  },
  "language_info": {
   "codemirror_mode": {
    "name": "ipython",
    "version": 3
   },
   "file_extension": ".py",
   "mimetype": "text/x-python",
   "name": "python",
   "nbconvert_exporter": "python",
   "pygments_lexer": "ipython3",
   "version": "3.10.6"
  }
 },
 "nbformat": 4,
 "nbformat_minor": 1
}

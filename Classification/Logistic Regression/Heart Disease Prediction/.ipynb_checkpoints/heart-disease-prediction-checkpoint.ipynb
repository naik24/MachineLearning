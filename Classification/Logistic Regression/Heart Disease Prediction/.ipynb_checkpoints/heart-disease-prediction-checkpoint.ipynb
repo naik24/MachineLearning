{
 "cells": [
  {
   "cell_type": "markdown",
   "id": "9db52cc4",
   "metadata": {},
   "source": [
    "# Data Preprocessing"
   ]
  },
  {
   "cell_type": "code",
   "execution_count": 1,
   "id": "457d0bac",
   "metadata": {
    "execution": {
     "iopub.execute_input": "2021-10-19T06:14:37.538772Z",
     "iopub.status.busy": "2021-10-19T06:14:37.537536Z",
     "iopub.status.idle": "2021-10-19T06:14:38.544635Z",
     "shell.execute_reply": "2021-10-19T06:14:38.543876Z",
     "shell.execute_reply.started": "2021-10-19T06:14:08.757056Z"
    },
    "papermill": {
     "duration": 1.023997,
     "end_time": "2021-10-19T06:14:38.544804",
     "exception": false,
     "start_time": "2021-10-19T06:14:37.520807",
     "status": "completed"
    },
    "tags": []
   },
   "outputs": [],
   "source": [
    "# importing libraries\n",
    "import pandas as pd \n",
    "from sklearn.utils import shuffle\n",
    "from sklearn.model_selection import train_test_split\n",
    "from sklearn.preprocessing import StandardScaler\n",
    "\n",
    "# importing dataset\n",
    "dataset = pd.read_csv('/kaggle/input/heart-disease-uci/heart.csv')\n",
    "\n",
    "# splitting dataset into features and target\n",
    "X = dataset.iloc[:, :-1].values\n",
    "y = dataset.iloc[:, -1].values\n",
    "\n",
    "# splitting dataset into train and test set\n",
    "X_train, X_test, y_train, y_test = train_test_split(X, y, test_size = 0.1, random_state = 0)\n",
    "\n",
    "# standardizing the data\n",
    "sc = StandardScaler()\n",
    "X_train = sc.fit_transform(X_train)\n",
    "X_test = sc.transform(X_test)"
   ]
  },
  {
   "cell_type": "markdown",
   "id": "b0f336b5",
   "metadata": {
    "papermill": {
     "duration": 0.009526,
     "end_time": "2021-10-19T06:14:38.565409",
     "exception": false,
     "start_time": "2021-10-19T06:14:38.555883",
     "status": "completed"
    },
    "tags": []
   },
   "source": [
    "# Logistic Regression"
   ]
  },
  {
   "cell_type": "code",
   "execution_count": 2,
   "id": "c4062615",
   "metadata": {
    "execution": {
     "iopub.execute_input": "2021-10-19T06:14:38.588832Z",
     "iopub.status.busy": "2021-10-19T06:14:38.587809Z",
     "iopub.status.idle": "2021-10-19T06:14:38.694132Z",
     "shell.execute_reply": "2021-10-19T06:14:38.694656Z",
     "shell.execute_reply.started": "2021-10-19T06:14:08.774015Z"
    },
    "papermill": {
     "duration": 0.11956,
     "end_time": "2021-10-19T06:14:38.694825",
     "exception": false,
     "start_time": "2021-10-19T06:14:38.575265",
     "status": "completed"
    },
    "tags": []
   },
   "outputs": [
    {
     "name": "stdout",
     "output_type": "stream",
     "text": [
      "[[14  3]\n",
      " [ 2 12]]\n",
      "0.8387096774193549\n"
     ]
    }
   ],
   "source": [
    "# importing modules\n",
    "from sklearn.linear_model import LogisticRegression\n",
    "from sklearn.metrics import confusion_matrix, accuracy_score\n",
    "\n",
    "# creating regressor and fitting on training data\n",
    "logisticRegression = LogisticRegression()\n",
    "logisticRegression.fit(X_train, y_train)\n",
    "\n",
    "# predicting the ouput of test data\n",
    "y_pred = logisticRegression.predict(X_test)\n",
    "\n",
    "# calcuating accuracy\n",
    "cm = confusion_matrix(y_test, y_pred)\n",
    "print(cm)\n",
    "logisticRegression_score = accuracy_score(y_test, y_pred)\n",
    "print(logisticRegression_score)"
   ]
  },
  {
   "cell_type": "markdown",
   "id": "1a817c1c",
   "metadata": {
    "papermill": {
     "duration": 0.009879,
     "end_time": "2021-10-19T06:14:38.715128",
     "exception": false,
     "start_time": "2021-10-19T06:14:38.705249",
     "status": "completed"
    },
    "tags": []
   },
   "source": [
    "# Decision Tree Classifier"
   ]
  },
  {
   "cell_type": "code",
   "execution_count": 3,
   "id": "ed4904e2",
   "metadata": {
    "execution": {
     "iopub.execute_input": "2021-10-19T06:14:38.742499Z",
     "iopub.status.busy": "2021-10-19T06:14:38.741700Z",
     "iopub.status.idle": "2021-10-19T06:14:38.835449Z",
     "shell.execute_reply": "2021-10-19T06:14:38.836238Z",
     "shell.execute_reply.started": "2021-10-19T06:14:08.790738Z"
    },
    "papermill": {
     "duration": 0.111193,
     "end_time": "2021-10-19T06:14:38.836508",
     "exception": false,
     "start_time": "2021-10-19T06:14:38.725315",
     "status": "completed"
    },
    "tags": []
   },
   "outputs": [
    {
     "name": "stdout",
     "output_type": "stream",
     "text": [
      "[[14  3]\n",
      " [ 6  8]]\n",
      "0.7096774193548387\n"
     ]
    }
   ],
   "source": [
    "# importing modules\n",
    "from sklearn.tree import DecisionTreeClassifier\n",
    "from sklearn.metrics import confusion_matrix, accuracy_score\n",
    "\n",
    "# creating classifier\n",
    "decision_tree = DecisionTreeClassifier(criterion = 'entropy', splitter = 'random', max_depth = 50, random_state = 0)\n",
    "decision_tree.fit(X_train, y_train)\n",
    "\n",
    "# predicting output of test data\n",
    "y_pred = decision_tree.predict(X_test)\n",
    "\n",
    "# calculating accuracy\n",
    "cm = confusion_matrix(y_test, y_pred)\n",
    "print(cm)\n",
    "DecisionTree_score = accuracy_score(y_test, y_pred)\n",
    "print(DecisionTree_score)"
   ]
  },
  {
   "cell_type": "markdown",
   "id": "7de81625",
   "metadata": {
    "papermill": {
     "duration": 0.010224,
     "end_time": "2021-10-19T06:14:38.857908",
     "exception": false,
     "start_time": "2021-10-19T06:14:38.847684",
     "status": "completed"
    },
    "tags": []
   },
   "source": [
    "# Random Forest Classifier"
   ]
  },
  {
   "cell_type": "code",
   "execution_count": 4,
   "id": "55ff734b",
   "metadata": {
    "execution": {
     "iopub.execute_input": "2021-10-19T06:14:38.882293Z",
     "iopub.status.busy": "2021-10-19T06:14:38.881549Z",
     "iopub.status.idle": "2021-10-19T06:14:39.132803Z",
     "shell.execute_reply": "2021-10-19T06:14:39.133704Z",
     "shell.execute_reply.started": "2021-10-19T06:14:08.804662Z"
    },
    "papermill": {
     "duration": 0.265439,
     "end_time": "2021-10-19T06:14:39.133883",
     "exception": false,
     "start_time": "2021-10-19T06:14:38.868444",
     "status": "completed"
    },
    "tags": []
   },
   "outputs": [
    {
     "name": "stdout",
     "output_type": "stream",
     "text": [
      "[[14  3]\n",
      " [ 2 12]]\n",
      "0.8387096774193549\n"
     ]
    }
   ],
   "source": [
    "# importing modules\n",
    "from sklearn.ensemble import RandomForestClassifier\n",
    "from sklearn.metrics import confusion_matrix, accuracy_score\n",
    "\n",
    "# creating classifier\n",
    "random_forest = RandomForestClassifier(n_estimators = 50, criterion = 'entropy', random_state = 0)\n",
    "random_forest.fit(X_train, y_train)\n",
    "\n",
    "# predicting output on test data\n",
    "y_pred = random_forest.predict(X_test)\n",
    "\n",
    "# calculating accuracy\n",
    "cm = confusion_matrix(y_test, y_pred)\n",
    "print(cm)\n",
    "RandomForest_score = accuracy_score(y_test, y_pred)\n",
    "print(RandomForest_score)"
   ]
  },
  {
   "cell_type": "markdown",
   "id": "6230231e",
   "metadata": {
    "papermill": {
     "duration": 0.010646,
     "end_time": "2021-10-19T06:14:39.155465",
     "exception": false,
     "start_time": "2021-10-19T06:14:39.144819",
     "status": "completed"
    },
    "tags": []
   },
   "source": [
    "# Naive Bayes Classifier"
   ]
  },
  {
   "cell_type": "code",
   "execution_count": 5,
   "id": "b05b6a88",
   "metadata": {
    "execution": {
     "iopub.execute_input": "2021-10-19T06:14:39.183306Z",
     "iopub.status.busy": "2021-10-19T06:14:39.182631Z",
     "iopub.status.idle": "2021-10-19T06:14:39.191686Z",
     "shell.execute_reply": "2021-10-19T06:14:39.192434Z",
     "shell.execute_reply.started": "2021-10-19T06:14:08.933213Z"
    },
    "papermill": {
     "duration": 0.026349,
     "end_time": "2021-10-19T06:14:39.192659",
     "exception": false,
     "start_time": "2021-10-19T06:14:39.166310",
     "status": "completed"
    },
    "tags": []
   },
   "outputs": [
    {
     "name": "stdout",
     "output_type": "stream",
     "text": [
      "[[13  4]\n",
      " [ 2 12]]\n",
      "0.8064516129032258\n"
     ]
    }
   ],
   "source": [
    "# importing modules\n",
    "from sklearn.naive_bayes import GaussianNB\n",
    "from sklearn.metrics import confusion_matrix, accuracy_score\n",
    "\n",
    "# creating classifier\n",
    "naiveBayes = GaussianNB()\n",
    "naiveBayes.fit(X_train, y_train)\n",
    "\n",
    "# predicting output on test data\n",
    "y_pred = naiveBayes.predict(X_test)\n",
    "\n",
    "# calculating accuracy\n",
    "cm = confusion_matrix(y_test, y_pred)\n",
    "print(cm)\n",
    "NaiveBayes_score = accuracy_score(y_test, y_pred)\n",
    "print(NaiveBayes_score)"
   ]
  },
  {
   "cell_type": "markdown",
   "id": "7d7e8f4b",
   "metadata": {
    "papermill": {
     "duration": 0.010831,
     "end_time": "2021-10-19T06:14:39.215627",
     "exception": false,
     "start_time": "2021-10-19T06:14:39.204796",
     "status": "completed"
    },
    "tags": []
   },
   "source": [
    "# Kernel SVM"
   ]
  },
  {
   "cell_type": "code",
   "execution_count": 6,
   "id": "912d499e",
   "metadata": {
    "execution": {
     "iopub.execute_input": "2021-10-19T06:14:39.241016Z",
     "iopub.status.busy": "2021-10-19T06:14:39.240327Z",
     "iopub.status.idle": "2021-10-19T06:14:39.253678Z",
     "shell.execute_reply": "2021-10-19T06:14:39.253016Z",
     "shell.execute_reply.started": "2021-10-19T06:14:08.945139Z"
    },
    "papermill": {
     "duration": 0.027186,
     "end_time": "2021-10-19T06:14:39.253820",
     "exception": false,
     "start_time": "2021-10-19T06:14:39.226634",
     "status": "completed"
    },
    "tags": []
   },
   "outputs": [
    {
     "name": "stdout",
     "output_type": "stream",
     "text": [
      "[[13  4]\n",
      " [ 2 12]]\n",
      "0.8064516129032258\n"
     ]
    }
   ],
   "source": [
    "# importing modules\n",
    "from sklearn.svm import SVC\n",
    "from sklearn.metrics import confusion_matrix, accuracy_score\n",
    "\n",
    "# creating classifier\n",
    "classifier = SVC(kernel='rbf', random_state=0)\n",
    "classifier.fit(X_train, y_train)\n",
    "\n",
    "# predicting output of test features\n",
    "y_pred = classifier.predict(X_test)\n",
    "\n",
    "# calculating accuracy\n",
    "cm = confusion_matrix(y_test, y_pred)\n",
    "print(cm)\n",
    "kernelSVM_score = accuracy_score(y_test, y_pred)\n",
    "print(kernelSVM_score)"
   ]
  },
  {
   "cell_type": "markdown",
   "id": "83b7caf0",
   "metadata": {
    "papermill": {
     "duration": 0.011093,
     "end_time": "2021-10-19T06:14:39.276476",
     "exception": false,
     "start_time": "2021-10-19T06:14:39.265383",
     "status": "completed"
    },
    "tags": []
   },
   "source": [
    "# Summary"
   ]
  },
  {
   "cell_type": "code",
   "execution_count": 7,
   "id": "4e03b143",
   "metadata": {
    "execution": {
     "iopub.execute_input": "2021-10-19T06:14:39.302909Z",
     "iopub.status.busy": "2021-10-19T06:14:39.302139Z",
     "iopub.status.idle": "2021-10-19T06:14:39.314658Z",
     "shell.execute_reply": "2021-10-19T06:14:39.315434Z",
     "shell.execute_reply.started": "2021-10-19T06:14:08.959716Z"
    },
    "papermill": {
     "duration": 0.027779,
     "end_time": "2021-10-19T06:14:39.315668",
     "exception": false,
     "start_time": "2021-10-19T06:14:39.287889",
     "status": "completed"
    },
    "tags": []
   },
   "outputs": [
    {
     "name": "stdout",
     "output_type": "stream",
     "text": [
      "               Algorithms  Accuracy\n",
      "0      LogisticRegression  0.838710\n",
      "1  DecisionTreeClassifier  0.709677\n",
      "2  RandomForestClassifier  0.838710\n",
      "3              NaiveBayes  0.806452\n",
      "4               KernelSVM  0.806452\n"
     ]
    }
   ],
   "source": [
    "d = {'Algorithms': ['LogisticRegression', 'DecisionTreeClassifier', 'RandomForestClassifier', 'NaiveBayes', 'KernelSVM'], \n",
    "     'Accuracy': [logisticRegression_score, DecisionTree_score, RandomForest_score, NaiveBayes_score, kernelSVM_score]}\n",
    "\n",
    "print(pd.DataFrame(data=d))"
   ]
  }
 ],
 "metadata": {
  "kernelspec": {
   "display_name": "Python 3 (ipykernel)",
   "language": "python",
   "name": "python3"
  },
  "language_info": {
   "codemirror_mode": {
    "name": "ipython",
    "version": 3
   },
   "file_extension": ".py",
   "mimetype": "text/x-python",
   "name": "python",
   "nbconvert_exporter": "python",
   "pygments_lexer": "ipython3",
   "version": "3.10.6"
  },
  "papermill": {
   "default_parameters": {},
   "duration": 12.317919,
   "end_time": "2021-10-19T06:14:40.038271",
   "environment_variables": {},
   "exception": null,
   "input_path": "__notebook__.ipynb",
   "output_path": "__notebook__.ipynb",
   "parameters": {},
   "start_time": "2021-10-19T06:14:27.720352",
   "version": "2.3.3"
  }
 },
 "nbformat": 4,
 "nbformat_minor": 5
}

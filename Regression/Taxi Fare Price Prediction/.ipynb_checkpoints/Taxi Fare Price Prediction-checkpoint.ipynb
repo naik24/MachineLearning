{
 "cells": [
  {
   "cell_type": "markdown",
   "id": "14ea8c0f",
   "metadata": {},
   "source": [
    "# Taxi Fare Price Prediction"
   ]
  },
  {
   "cell_type": "markdown",
   "id": "312f80bc",
   "metadata": {},
   "source": [
    "## Dataset Attributes\n",
    "\n",
    "- key: a unique identifier for each trip\n",
    "- fare_amount: the cost of each trip in USD\n",
    "- pickup_datetime: date and time when meter was engaged\n",
    "- passenger_count: number of passengers in the vehicle\n",
    "- pickup_longitude: the longitude where the meter was engaged\n",
    "- pickup_latitude: the latitude where the meter was engaged\n",
    "- dropoff_longitute: the longitude where the meter was disengaged\n",
    "- dropoff_latitude: the latitude where the meter was disengaged"
   ]
  },
  {
   "cell_type": "markdown",
   "id": "0a59421c",
   "metadata": {},
   "source": [
    "## Objective\n",
    "\n",
    "To predict the fare price of a ride based on the given attributes"
   ]
  },
  {
   "cell_type": "markdown",
   "id": "51e01e06",
   "metadata": {},
   "source": [
    "## Approach\n",
    "\n",
    "Before we could build a regression model to predict the prices, we need to preprocess the data to remove outliers, fix missing and null values, etc."
   ]
  },
  {
   "cell_type": "markdown",
   "id": "b66cdbe8",
   "metadata": {},
   "source": [
    "## Data Exploration"
   ]
  },
  {
   "cell_type": "code",
   "execution_count": 77,
   "id": "6a3cf193",
   "metadata": {},
   "outputs": [],
   "source": [
    "# importing libraries\n",
    "import pandas as pd\n",
    "import geopy.distance\n",
    "\n",
    "from sklearn.model_selection import train_test_split\n",
    "from sklearn.preprocessing import StandardScaler\n",
    "\n",
    "from sklearn.linear_model import Ridge\n",
    "from sklearn.linear_model import Lasso\n",
    "from sklearn.linear_model import ElasticNet\n",
    "from sklearn.linear_model import LinearRegression\n",
    "from sklearn.metrics import r2_score"
   ]
  },
  {
   "cell_type": "code",
   "execution_count": 28,
   "id": "692f9790",
   "metadata": {},
   "outputs": [],
   "source": [
    "# importing the dataset\n",
    "\n",
    "dataset = pd.read_csv('uber.csv')\n",
    "\n",
    "dataset.drop(['Unnamed: 0', 'key'], axis = 1, inplace = True)\n",
    "\n",
    "target = 'fare_amount'\n",
    "\n",
    "features = [i for i in dataset.columns if i not in [target]]"
   ]
  },
  {
   "cell_type": "code",
   "execution_count": 29,
   "id": "15482fcd",
   "metadata": {},
   "outputs": [
    {
     "name": "stdout",
     "output_type": "stream",
     "text": [
      "                   Total Null Values  Percentage\n",
      "fare_amount                        0         0.0\n",
      "pickup_datetime                    0         0.0\n",
      "pickup_longitude                   0         0.0\n",
      "pickup_latitude                    0         0.0\n",
      "passenger_count                    0         0.0\n",
      "dropoff_longitude                  1         0.0\n",
      "dropoff_latitude                   1         0.0\n"
     ]
    }
   ],
   "source": [
    "# check for empty elements\n",
    "nvc = pd.DataFrame(dataset.isnull().sum().sort_values(), columns = ['Total Null Values'])\n",
    "nvc['Percentage'] = round(nvc['Total Null Values']/dataset.shape[0], 3)*100\n",
    "print(nvc)\n",
    "dataset.dropna(inplace = True)"
   ]
  },
  {
   "cell_type": "code",
   "execution_count": 30,
   "id": "38cab6ed",
   "metadata": {},
   "outputs": [
    {
     "data": {
      "text/html": [
       "<div>\n",
       "<style scoped>\n",
       "    .dataframe tbody tr th:only-of-type {\n",
       "        vertical-align: middle;\n",
       "    }\n",
       "\n",
       "    .dataframe tbody tr th {\n",
       "        vertical-align: top;\n",
       "    }\n",
       "\n",
       "    .dataframe thead th {\n",
       "        text-align: right;\n",
       "    }\n",
       "</style>\n",
       "<table border=\"1\" class=\"dataframe\">\n",
       "  <thead>\n",
       "    <tr style=\"text-align: right;\">\n",
       "      <th></th>\n",
       "      <th>fare_amount</th>\n",
       "      <th>pickup_longitude</th>\n",
       "      <th>pickup_latitude</th>\n",
       "      <th>dropoff_longitude</th>\n",
       "      <th>dropoff_latitude</th>\n",
       "      <th>passenger_count</th>\n",
       "      <th>year</th>\n",
       "      <th>weekday</th>\n",
       "      <th>Monthly_Quarter</th>\n",
       "      <th>Hourly_Segments</th>\n",
       "      <th>Distance</th>\n",
       "    </tr>\n",
       "  </thead>\n",
       "  <tbody>\n",
       "    <tr>\n",
       "      <th>0</th>\n",
       "      <td>7.5</td>\n",
       "      <td>-73.999817</td>\n",
       "      <td>40.738354</td>\n",
       "      <td>-73.999512</td>\n",
       "      <td>40.723217</td>\n",
       "      <td>1</td>\n",
       "      <td>2015</td>\n",
       "      <td>3</td>\n",
       "      <td>Q2</td>\n",
       "      <td>H5</td>\n",
       "      <td>1681.11</td>\n",
       "    </tr>\n",
       "    <tr>\n",
       "      <th>1</th>\n",
       "      <td>7.7</td>\n",
       "      <td>-73.994355</td>\n",
       "      <td>40.728225</td>\n",
       "      <td>-73.994710</td>\n",
       "      <td>40.750325</td>\n",
       "      <td>1</td>\n",
       "      <td>2009</td>\n",
       "      <td>4</td>\n",
       "      <td>Q3</td>\n",
       "      <td>H6</td>\n",
       "      <td>2454.36</td>\n",
       "    </tr>\n",
       "    <tr>\n",
       "      <th>2</th>\n",
       "      <td>12.9</td>\n",
       "      <td>-74.005043</td>\n",
       "      <td>40.740770</td>\n",
       "      <td>-73.962565</td>\n",
       "      <td>40.772647</td>\n",
       "      <td>1</td>\n",
       "      <td>2009</td>\n",
       "      <td>0</td>\n",
       "      <td>Q3</td>\n",
       "      <td>H6</td>\n",
       "      <td>5039.60</td>\n",
       "    </tr>\n",
       "    <tr>\n",
       "      <th>3</th>\n",
       "      <td>5.3</td>\n",
       "      <td>-73.976124</td>\n",
       "      <td>40.790844</td>\n",
       "      <td>-73.965316</td>\n",
       "      <td>40.803349</td>\n",
       "      <td>3</td>\n",
       "      <td>2009</td>\n",
       "      <td>4</td>\n",
       "      <td>Q2</td>\n",
       "      <td>H3</td>\n",
       "      <td>1661.44</td>\n",
       "    </tr>\n",
       "    <tr>\n",
       "      <th>4</th>\n",
       "      <td>16.0</td>\n",
       "      <td>-73.925023</td>\n",
       "      <td>40.744085</td>\n",
       "      <td>-73.973082</td>\n",
       "      <td>40.761247</td>\n",
       "      <td>5</td>\n",
       "      <td>2014</td>\n",
       "      <td>3</td>\n",
       "      <td>Q3</td>\n",
       "      <td>H5</td>\n",
       "      <td>4483.73</td>\n",
       "    </tr>\n",
       "  </tbody>\n",
       "</table>\n",
       "</div>"
      ],
      "text/plain": [
       "   fare_amount  pickup_longitude  pickup_latitude  dropoff_longitude  \\\n",
       "0          7.5        -73.999817        40.738354         -73.999512   \n",
       "1          7.7        -73.994355        40.728225         -73.994710   \n",
       "2         12.9        -74.005043        40.740770         -73.962565   \n",
       "3          5.3        -73.976124        40.790844         -73.965316   \n",
       "4         16.0        -73.925023        40.744085         -73.973082   \n",
       "\n",
       "   dropoff_latitude  passenger_count  year  weekday Monthly_Quarter  \\\n",
       "0         40.723217                1  2015        3              Q2   \n",
       "1         40.750325                1  2009        4              Q3   \n",
       "2         40.772647                1  2009        0              Q3   \n",
       "3         40.803349                3  2009        4              Q2   \n",
       "4         40.761247                5  2014        3              Q3   \n",
       "\n",
       "  Hourly_Segments  Distance  \n",
       "0              H5   1681.11  \n",
       "1              H6   2454.36  \n",
       "2              H6   5039.60  \n",
       "3              H3   1661.44  \n",
       "4              H5   4483.73  "
      ]
     },
     "execution_count": 30,
     "metadata": {},
     "output_type": "execute_result"
    }
   ],
   "source": [
    "# reframing the columns\n",
    "dataset = dataset[(dataset.pickup_latitude<90) & (dataset.dropoff_latitude<90) &\n",
    "        (dataset.pickup_latitude>-90) & (dataset.dropoff_latitude>-90) &\n",
    "        (dataset.pickup_longitude<180) & (dataset.dropoff_longitude<180) &\n",
    "        (dataset.pickup_longitude>-180) & (dataset.dropoff_longitude>-180)]\n",
    "\n",
    "dataset.pickup_datetime = pd.to_datetime(dataset.pickup_datetime)\n",
    "\n",
    "dataset['year'] = dataset.pickup_datetime.dt.year\n",
    "dataset['month'] = dataset.pickup_datetime.dt.month\n",
    "dataset['weekday'] = dataset.pickup_datetime.dt.weekday\n",
    "dataset['hour'] = dataset.pickup_datetime.dt.hour\n",
    "\n",
    "dataset['Monthly_Quarter'] = dataset.month.map({1:'Q1',2:'Q1',3:'Q1',4:'Q2',5:'Q2',6:'Q2',7:'Q3',\n",
    "                                      8:'Q3',9:'Q3',10:'Q4',11:'Q4',12:'Q4'})\n",
    "dataset['Hourly_Segments'] = dataset.hour.map({0:'H1',1:'H1',2:'H1',3:'H1',4:'H2',5:'H2',6:'H2',7:'H2',8:'H3',\n",
    "                                     9:'H3',10:'H3',11:'H3',12:'H4',13:'H4',14:'H4',15:'H4',16:'H5',\n",
    "                                     17:'H5',18:'H5',19:'H5',20:'H6',21:'H6',22:'H6',23:'H6'})\n",
    "\n",
    "dataset['Distance']=[round(geopy.distance.distance((dataset.pickup_latitude[i], dataset.pickup_longitude[i]),(dataset.dropoff_latitude[i], dataset.dropoff_longitude[i])).m,2) for i in dataset.index]\n",
    "\n",
    "dataset.drop(['pickup_datetime','month', 'hour',], axis=1, inplace=True)\n",
    "\n",
    "data = dataset.copy(deep = True)\n",
    "\n",
    "data.head()"
   ]
  },
  {
   "cell_type": "code",
   "execution_count": 37,
   "id": "20fe3720",
   "metadata": {},
   "outputs": [],
   "source": [
    "# checking number of unique rows in each feature\n",
    "nu = dataset.drop([target], axis = 1).nunique().sort_values()\n",
    "\n",
    "# numerical and categorical features\n",
    "nf = []\n",
    "cf = []\n",
    "nnf = 0\n",
    "ncf = 0\n",
    "\n",
    "for i in range(dataset.drop([target], axis = 1).shape[1]):\n",
    "    if nu.values[i] <= 24:\n",
    "        cf.append(nu.index[i])\n",
    "    else:\n",
    "        nf.append(nu.index[i])"
   ]
  },
  {
   "cell_type": "markdown",
   "id": "5680af0a",
   "metadata": {},
   "source": [
    "## Data Preprocessing"
   ]
  },
  {
   "cell_type": "code",
   "execution_count": 38,
   "id": "1ccf72c0",
   "metadata": {},
   "outputs": [
    {
     "name": "stdout",
     "output_type": "stream",
     "text": [
      "Number of Duplicates: 109\n"
     ]
    }
   ],
   "source": [
    "# removing duplicate rows\n",
    "counter = 0\n",
    "rows, cols = data.shape\n",
    "\n",
    "dataset.drop_duplicates(inplace = True)\n",
    "dataset.drop(['pickup_latitude','pickup_longitude',\n",
    "         'dropoff_latitude','dropoff_longitude'],axis=1)\n",
    "\n",
    "if dataset.shape == (rows, cols):\n",
    "    print(\"No Duplicates Found\")\n",
    "else:\n",
    "    print(\"Number of Duplicates: {}\".format(rows - dataset.shape[0]))"
   ]
  },
  {
   "cell_type": "code",
   "execution_count": 39,
   "id": "bf0691c8",
   "metadata": {},
   "outputs": [
    {
     "name": "stdout",
     "output_type": "stream",
     "text": [
      "\n",
      "\u001b[1mDummy Encoding on features:\u001b[0m\n",
      "Monthly_Quarter\n",
      "Hourly_Segments\n",
      "year\n",
      "weekday\n",
      "passenger_count\n"
     ]
    },
    {
     "data": {
      "text/plain": [
       "(199878, 33)"
      ]
     },
     "execution_count": 39,
     "metadata": {},
     "output_type": "execute_result"
    }
   ],
   "source": [
    "# encoding categorical values\n",
    "\n",
    "df1 = dataset.copy()\n",
    "df3 = df1.copy()\n",
    "\n",
    "ecc = nvc[nvc['Percentage']!=0].index.values\n",
    "fcc = [i for i in cf if i not in ecc]\n",
    "\n",
    "# one hot binary encoding\n",
    "oh = True\n",
    "dm = True\n",
    "\n",
    "for i in fcc:\n",
    "    if df3[i].nunique()==2:\n",
    "        if oh==True: print(\"\\033[1mOne-Hot Encoding on features:\\033[0m\")\n",
    "        print(i);oh=False\n",
    "        df3[i]=pd.get_dummies(df3[i], drop_first=True, prefix=str(i))\n",
    "    if (df3[i].nunique()>2 and df3[i].nunique()<17):\n",
    "        if dm==True: print(\"\\n\\033[1mDummy Encoding on features:\\033[0m\")\n",
    "        print(i);dm=False\n",
    "        df3 = pd.concat([df3.drop([i], axis=1), pd.DataFrame(pd.get_dummies(df3[i], drop_first=True, prefix=str(i)))],axis=1)\n",
    "        \n",
    "df3.shape"
   ]
  },
  {
   "cell_type": "code",
   "execution_count": 41,
   "id": "4a736f9b",
   "metadata": {},
   "outputs": [
    {
     "data": {
      "text/html": [
       "<div>\n",
       "<style scoped>\n",
       "    .dataframe tbody tr th:only-of-type {\n",
       "        vertical-align: middle;\n",
       "    }\n",
       "\n",
       "    .dataframe tbody tr th {\n",
       "        vertical-align: top;\n",
       "    }\n",
       "\n",
       "    .dataframe thead th {\n",
       "        text-align: right;\n",
       "    }\n",
       "</style>\n",
       "<table border=\"1\" class=\"dataframe\">\n",
       "  <thead>\n",
       "    <tr style=\"text-align: right;\">\n",
       "      <th></th>\n",
       "      <th>fare_amount</th>\n",
       "      <th>pickup_longitude</th>\n",
       "      <th>pickup_latitude</th>\n",
       "      <th>dropoff_longitude</th>\n",
       "      <th>dropoff_latitude</th>\n",
       "      <th>Distance</th>\n",
       "      <th>Monthly_Quarter_Q2</th>\n",
       "      <th>Monthly_Quarter_Q3</th>\n",
       "      <th>Monthly_Quarter_Q4</th>\n",
       "      <th>Hourly_Segments_H2</th>\n",
       "      <th>...</th>\n",
       "      <th>weekday_4</th>\n",
       "      <th>weekday_5</th>\n",
       "      <th>weekday_6</th>\n",
       "      <th>passenger_count_1</th>\n",
       "      <th>passenger_count_2</th>\n",
       "      <th>passenger_count_3</th>\n",
       "      <th>passenger_count_4</th>\n",
       "      <th>passenger_count_5</th>\n",
       "      <th>passenger_count_6</th>\n",
       "      <th>passenger_count_208</th>\n",
       "    </tr>\n",
       "  </thead>\n",
       "  <tbody>\n",
       "    <tr>\n",
       "      <th>0</th>\n",
       "      <td>7.5</td>\n",
       "      <td>-73.999817</td>\n",
       "      <td>40.738354</td>\n",
       "      <td>-73.999512</td>\n",
       "      <td>40.723217</td>\n",
       "      <td>1681.11</td>\n",
       "      <td>1</td>\n",
       "      <td>0</td>\n",
       "      <td>0</td>\n",
       "      <td>0</td>\n",
       "      <td>...</td>\n",
       "      <td>0</td>\n",
       "      <td>0</td>\n",
       "      <td>0</td>\n",
       "      <td>1</td>\n",
       "      <td>0</td>\n",
       "      <td>0</td>\n",
       "      <td>0</td>\n",
       "      <td>0</td>\n",
       "      <td>0</td>\n",
       "      <td>0</td>\n",
       "    </tr>\n",
       "    <tr>\n",
       "      <th>1</th>\n",
       "      <td>7.7</td>\n",
       "      <td>-73.994355</td>\n",
       "      <td>40.728225</td>\n",
       "      <td>-73.994710</td>\n",
       "      <td>40.750325</td>\n",
       "      <td>2454.36</td>\n",
       "      <td>0</td>\n",
       "      <td>1</td>\n",
       "      <td>0</td>\n",
       "      <td>0</td>\n",
       "      <td>...</td>\n",
       "      <td>1</td>\n",
       "      <td>0</td>\n",
       "      <td>0</td>\n",
       "      <td>1</td>\n",
       "      <td>0</td>\n",
       "      <td>0</td>\n",
       "      <td>0</td>\n",
       "      <td>0</td>\n",
       "      <td>0</td>\n",
       "      <td>0</td>\n",
       "    </tr>\n",
       "    <tr>\n",
       "      <th>2</th>\n",
       "      <td>12.9</td>\n",
       "      <td>-74.005043</td>\n",
       "      <td>40.740770</td>\n",
       "      <td>-73.962565</td>\n",
       "      <td>40.772647</td>\n",
       "      <td>5039.60</td>\n",
       "      <td>0</td>\n",
       "      <td>1</td>\n",
       "      <td>0</td>\n",
       "      <td>0</td>\n",
       "      <td>...</td>\n",
       "      <td>0</td>\n",
       "      <td>0</td>\n",
       "      <td>0</td>\n",
       "      <td>1</td>\n",
       "      <td>0</td>\n",
       "      <td>0</td>\n",
       "      <td>0</td>\n",
       "      <td>0</td>\n",
       "      <td>0</td>\n",
       "      <td>0</td>\n",
       "    </tr>\n",
       "    <tr>\n",
       "      <th>3</th>\n",
       "      <td>5.3</td>\n",
       "      <td>-73.976124</td>\n",
       "      <td>40.790844</td>\n",
       "      <td>-73.965316</td>\n",
       "      <td>40.803349</td>\n",
       "      <td>1661.44</td>\n",
       "      <td>1</td>\n",
       "      <td>0</td>\n",
       "      <td>0</td>\n",
       "      <td>0</td>\n",
       "      <td>...</td>\n",
       "      <td>1</td>\n",
       "      <td>0</td>\n",
       "      <td>0</td>\n",
       "      <td>0</td>\n",
       "      <td>0</td>\n",
       "      <td>1</td>\n",
       "      <td>0</td>\n",
       "      <td>0</td>\n",
       "      <td>0</td>\n",
       "      <td>0</td>\n",
       "    </tr>\n",
       "    <tr>\n",
       "      <th>4</th>\n",
       "      <td>4.9</td>\n",
       "      <td>-73.969019</td>\n",
       "      <td>40.755910</td>\n",
       "      <td>-73.969019</td>\n",
       "      <td>40.755910</td>\n",
       "      <td>0.00</td>\n",
       "      <td>0</td>\n",
       "      <td>0</td>\n",
       "      <td>0</td>\n",
       "      <td>0</td>\n",
       "      <td>...</td>\n",
       "      <td>0</td>\n",
       "      <td>1</td>\n",
       "      <td>0</td>\n",
       "      <td>1</td>\n",
       "      <td>0</td>\n",
       "      <td>0</td>\n",
       "      <td>0</td>\n",
       "      <td>0</td>\n",
       "      <td>0</td>\n",
       "      <td>0</td>\n",
       "    </tr>\n",
       "  </tbody>\n",
       "</table>\n",
       "<p>5 rows × 33 columns</p>\n",
       "</div>"
      ],
      "text/plain": [
       "   fare_amount  pickup_longitude  pickup_latitude  dropoff_longitude  \\\n",
       "0          7.5        -73.999817        40.738354         -73.999512   \n",
       "1          7.7        -73.994355        40.728225         -73.994710   \n",
       "2         12.9        -74.005043        40.740770         -73.962565   \n",
       "3          5.3        -73.976124        40.790844         -73.965316   \n",
       "4          4.9        -73.969019        40.755910         -73.969019   \n",
       "\n",
       "   dropoff_latitude  Distance  Monthly_Quarter_Q2  Monthly_Quarter_Q3  \\\n",
       "0         40.723217   1681.11                   1                   0   \n",
       "1         40.750325   2454.36                   0                   1   \n",
       "2         40.772647   5039.60                   0                   1   \n",
       "3         40.803349   1661.44                   1                   0   \n",
       "4         40.755910      0.00                   0                   0   \n",
       "\n",
       "   Monthly_Quarter_Q4  Hourly_Segments_H2  ...  weekday_4  weekday_5  \\\n",
       "0                   0                   0  ...          0          0   \n",
       "1                   0                   0  ...          1          0   \n",
       "2                   0                   0  ...          0          0   \n",
       "3                   0                   0  ...          1          0   \n",
       "4                   0                   0  ...          0          1   \n",
       "\n",
       "   weekday_6  passenger_count_1  passenger_count_2  passenger_count_3  \\\n",
       "0          0                  1                  0                  0   \n",
       "1          0                  1                  0                  0   \n",
       "2          0                  1                  0                  0   \n",
       "3          0                  0                  0                  1   \n",
       "4          0                  1                  0                  0   \n",
       "\n",
       "   passenger_count_4  passenger_count_5  passenger_count_6  \\\n",
       "0                  0                  0                  0   \n",
       "1                  0                  0                  0   \n",
       "2                  0                  0                  0   \n",
       "3                  0                  0                  0   \n",
       "4                  0                  0                  0   \n",
       "\n",
       "   passenger_count_208  \n",
       "0                    0  \n",
       "1                    0  \n",
       "2                    0  \n",
       "3                    0  \n",
       "4                    0  \n",
       "\n",
       "[5 rows x 33 columns]"
      ]
     },
     "metadata": {},
     "output_type": "display_data"
    }
   ],
   "source": [
    "# removing outliers\n",
    "\n",
    "df1 = df3.copy()\n",
    "\n",
    "features1 = nf\n",
    "\n",
    "for i in features1:\n",
    "    Q1 = df1[i].quantile(0.25)\n",
    "    Q3 = df1[i].quantile(0.75)\n",
    "    IQR = Q3 - Q1\n",
    "    df1 = df1[df1[i] <= (Q3+(1.5*IQR))]\n",
    "    df1 = df1[df1[i] >= (Q1-(1.5*IQR))]\n",
    "    df1 = df1.reset_index(drop=True)\n",
    "\n",
    "display(df1.head())"
   ]
  },
  {
   "cell_type": "markdown",
   "id": "3e8e4c7e",
   "metadata": {},
   "source": [
    "## Data Manipulation"
   ]
  },
  {
   "cell_type": "code",
   "execution_count": 71,
   "id": "7ee2739e",
   "metadata": {},
   "outputs": [],
   "source": [
    "#splitting data into train and test sets\n",
    "m = []\n",
    "for i in df1.columns.values:\n",
    "    m.append(i.replace(' ', '_'))\n",
    "    \n",
    "df1.columns = m\n",
    "X = df1.drop([target], axis = 1)\n",
    "y = df1[target]\n",
    "\n",
    "train_X, test_X, train_y, test_y = train_test_split(X, y, test_size = 0.2, random_state = 100)\n",
    "train_X.reset_index(drop = True, inplace = True)"
   ]
  },
  {
   "cell_type": "code",
   "execution_count": 72,
   "id": "1ddf2db9",
   "metadata": {},
   "outputs": [],
   "source": [
    "# feature scaling\n",
    "scaler = StandardScaler()\n",
    "\n",
    "train_X = scaler.fit_transform(train_X)\n",
    "train_X = pd.DataFrame(train_X, columns = X.columns)\n",
    "\n",
    "test_X = scaler.transform(test_X)\n",
    "test_X = pd.DataFrame(test_X, columns = X.columns)"
   ]
  },
  {
   "cell_type": "markdown",
   "id": "0e57cc32",
   "metadata": {},
   "source": [
    "## Regression Modelling"
   ]
  },
  {
   "cell_type": "code",
   "execution_count": 73,
   "id": "adac4e9b",
   "metadata": {},
   "outputs": [
    {
     "name": "stdout",
     "output_type": "stream",
     "text": [
      "R2 Score:  0.3294397974348473\n"
     ]
    }
   ],
   "source": [
    "# linear regression\n",
    "\n",
    "mlr = LinearRegression().fit(train_X, train_y)\n",
    "y_pred = mlr.predict(test_X)\n",
    "\n",
    "print(\"R2 Score: \",r2_score(test_y, y_pred))"
   ]
  },
  {
   "cell_type": "code",
   "execution_count": 74,
   "id": "707de19a",
   "metadata": {},
   "outputs": [
    {
     "name": "stdout",
     "output_type": "stream",
     "text": [
      "R2 Score:  0.3294398074715096\n"
     ]
    }
   ],
   "source": [
    "# ridge regression\n",
    "ridge = Ridge().fit(train_X, train_y)\n",
    "y_pred = ridge.predict(test_X)\n",
    "\n",
    "print(\"R2 Score: \",r2_score(test_y, y_pred))"
   ]
  },
  {
   "cell_type": "code",
   "execution_count": 75,
   "id": "afc63399",
   "metadata": {},
   "outputs": [
    {
     "name": "stdout",
     "output_type": "stream",
     "text": [
      "R2 Score:  0.26226052163439806\n"
     ]
    }
   ],
   "source": [
    "# lasso regression\n",
    "lasso = Lasso().fit(train_X, train_y)\n",
    "y_pred = lasso.predict(test_X)\n",
    "\n",
    "print(\"R2 Score: \",r2_score(test_y, y_pred))"
   ]
  },
  {
   "cell_type": "code",
   "execution_count": 76,
   "id": "5f969085",
   "metadata": {},
   "outputs": [
    {
     "name": "stdout",
     "output_type": "stream",
     "text": [
      "R2 Score:  0.23952090035803697\n"
     ]
    }
   ],
   "source": [
    "# elastic-net regression\n",
    "enr = ElasticNet().fit(train_X, train_y)\n",
    "y_pred = enr.predict(test_X)\n",
    "\n",
    "print(\"R2 Score: \",r2_score(test_y, y_pred))"
   ]
  }
 ],
 "metadata": {
  "kernelspec": {
   "display_name": "Python 3 (ipykernel)",
   "language": "python",
   "name": "python3"
  },
  "language_info": {
   "codemirror_mode": {
    "name": "ipython",
    "version": 3
   },
   "file_extension": ".py",
   "mimetype": "text/x-python",
   "name": "python",
   "nbconvert_exporter": "python",
   "pygments_lexer": "ipython3",
   "version": "3.10.6"
  }
 },
 "nbformat": 4,
 "nbformat_minor": 5
}

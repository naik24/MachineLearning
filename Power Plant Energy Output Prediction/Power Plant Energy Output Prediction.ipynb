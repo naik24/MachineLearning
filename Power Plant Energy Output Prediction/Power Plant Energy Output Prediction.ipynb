{
 "cells": [
  {
   "cell_type": "markdown",
   "id": "fa03efc7",
   "metadata": {},
   "source": [
    "## Power Plant Energy Output Prediction"
   ]
  },
  {
   "cell_type": "markdown",
   "id": "dc73e055",
   "metadata": {},
   "source": [
    "## Dataset Information\n",
    "\n",
    "The dataset contains 9568 data points collected from a Combined Cycle Power Plant over 6 years (2006-2011), when the power plant was set to work with full load. Features consist of hourly average ambient variables Temperature (T), Ambient Pressure (AP), Relative Humidity (RH) and Exhaust Vacuum (V) to predict the net hourly electrical energy output (EP) of the plant\n",
    "\n",
    "## Attributes Information\n",
    "\n",
    "Features consist of hourly average ambient variables\n",
    "- Temperature (T) in the range 1.81°C and 37.11°C,\n",
    "- Ambient Pressure (AP) in the range 992.89-1033.30 milibar,\n",
    "- Relative Humidity (RH) in the range 25.56% to 100.16%\n",
    "- Exhaust Vacuum (V) in teh range 25.36-81.56 cm Hg\n",
    "- Net hourly electrical energy output (EP) 420.26-495.76 MW\n",
    "\n",
    "## Objective\n",
    "\n",
    "Our objective is to predict the net hourly electrical energy output (EP) given the Temperature (T), Ambient Pressure (AP), Relative Humidity (RH) and Exhaust Vaccum (V) as inputs\n",
    "\n",
    "## Approach\n",
    "\n",
    "We shall fit different regression models on the data and choose the one which gives the highest accuracy on the test data"
   ]
  },
  {
   "cell_type": "markdown",
   "id": "37f06429",
   "metadata": {},
   "source": [
    "---------------------------------------------------------------"
   ]
  },
  {
   "cell_type": "markdown",
   "id": "d8509042",
   "metadata": {},
   "source": [
    "## Required Libraries"
   ]
  },
  {
   "cell_type": "code",
   "execution_count": 108,
   "id": "c1da2355",
   "metadata": {},
   "outputs": [],
   "source": [
    "import pandas as pd\n",
    "import numpy as np\n",
    "\n",
    "from sklearn.model_selection import train_test_split\n",
    "from sklearn.preprocessing import StandardScaler\n",
    "\n",
    "from sklearn import linear_model\n",
    "from sklearn import svm\n",
    "from sklearn import tree\n",
    "\n",
    "from sklearn.metrics import mean_squared_error\n",
    "from sklearn.metrics import mean_absolute_error\n",
    "from sklearn.metrics import r2_score"
   ]
  },
  {
   "cell_type": "markdown",
   "id": "7b4312f7",
   "metadata": {},
   "source": [
    "## Data Processing"
   ]
  },
  {
   "cell_type": "code",
   "execution_count": 109,
   "id": "ab0e555d",
   "metadata": {},
   "outputs": [
    {
     "data": {
      "text/html": [
       "<div>\n",
       "<style scoped>\n",
       "    .dataframe tbody tr th:only-of-type {\n",
       "        vertical-align: middle;\n",
       "    }\n",
       "\n",
       "    .dataframe tbody tr th {\n",
       "        vertical-align: top;\n",
       "    }\n",
       "\n",
       "    .dataframe thead th {\n",
       "        text-align: right;\n",
       "    }\n",
       "</style>\n",
       "<table border=\"1\" class=\"dataframe\">\n",
       "  <thead>\n",
       "    <tr style=\"text-align: right;\">\n",
       "      <th></th>\n",
       "      <th>AT</th>\n",
       "      <th>V</th>\n",
       "      <th>AP</th>\n",
       "      <th>RH</th>\n",
       "      <th>PE</th>\n",
       "    </tr>\n",
       "  </thead>\n",
       "  <tbody>\n",
       "    <tr>\n",
       "      <th>0</th>\n",
       "      <td>8.34</td>\n",
       "      <td>40.77</td>\n",
       "      <td>1010.84</td>\n",
       "      <td>90.01</td>\n",
       "      <td>480.48</td>\n",
       "    </tr>\n",
       "    <tr>\n",
       "      <th>1</th>\n",
       "      <td>23.64</td>\n",
       "      <td>58.49</td>\n",
       "      <td>1011.40</td>\n",
       "      <td>74.20</td>\n",
       "      <td>445.75</td>\n",
       "    </tr>\n",
       "    <tr>\n",
       "      <th>2</th>\n",
       "      <td>29.74</td>\n",
       "      <td>56.90</td>\n",
       "      <td>1007.15</td>\n",
       "      <td>41.91</td>\n",
       "      <td>438.76</td>\n",
       "    </tr>\n",
       "    <tr>\n",
       "      <th>3</th>\n",
       "      <td>19.07</td>\n",
       "      <td>49.69</td>\n",
       "      <td>1007.22</td>\n",
       "      <td>76.79</td>\n",
       "      <td>453.09</td>\n",
       "    </tr>\n",
       "    <tr>\n",
       "      <th>4</th>\n",
       "      <td>11.80</td>\n",
       "      <td>40.66</td>\n",
       "      <td>1017.13</td>\n",
       "      <td>97.20</td>\n",
       "      <td>464.43</td>\n",
       "    </tr>\n",
       "  </tbody>\n",
       "</table>\n",
       "</div>"
      ],
      "text/plain": [
       "      AT      V       AP     RH      PE\n",
       "0   8.34  40.77  1010.84  90.01  480.48\n",
       "1  23.64  58.49  1011.40  74.20  445.75\n",
       "2  29.74  56.90  1007.15  41.91  438.76\n",
       "3  19.07  49.69  1007.22  76.79  453.09\n",
       "4  11.80  40.66  1017.13  97.20  464.43"
      ]
     },
     "execution_count": 109,
     "metadata": {},
     "output_type": "execute_result"
    }
   ],
   "source": [
    "dataset = pd.read_csv('powerplantdata.csv')\n",
    "dataset.head()"
   ]
  },
  {
   "cell_type": "markdown",
   "id": "50d07283",
   "metadata": {},
   "source": [
    "Out of the 5 columns above, the first 4 columns will be the features and the last column (PE) will be the target"
   ]
  },
  {
   "cell_type": "code",
   "execution_count": 110,
   "id": "e912d95f",
   "metadata": {},
   "outputs": [],
   "source": [
    "# splitting the dataset into features and target\n",
    "X = dataset.iloc[:, :-1].values\n",
    "y = dataset.iloc[:, -1].values"
   ]
  },
  {
   "cell_type": "code",
   "execution_count": 111,
   "id": "e31be0c0",
   "metadata": {},
   "outputs": [],
   "source": [
    "# splitting features and target into training and test set\n",
    "X_train, X_test, y_train, y_test = train_test_split(X, y, \n",
    "                                                    test_size = 0.2, random_state = 0)"
   ]
  },
  {
   "cell_type": "markdown",
   "id": "8cfe70e8",
   "metadata": {},
   "source": [
    "## Regression Models"
   ]
  },
  {
   "cell_type": "markdown",
   "id": "bb45e3ad",
   "metadata": {},
   "source": [
    "### 1. Ordinary Least Squares"
   ]
  },
  {
   "cell_type": "code",
   "execution_count": 112,
   "id": "1f1bab12",
   "metadata": {},
   "outputs": [],
   "source": [
    "def ols(X_train, y_train, X_test):\n",
    "    \n",
    "    #fitting model on data\n",
    "    ols_regressor = linear_model.LinearRegression()\n",
    "    ols_regressor.fit(X_train, y_train)\n",
    "\n",
    "    #predicting target for test set features\n",
    "    y_predicted = ols_regressor.predict(X_test)\n",
    "\n",
    "    # model performance\n",
    "    ols_r2 = r2_score(y_test, y_predicted)\n",
    "\n",
    "    # printing  metrics results\n",
    "    print('R2 score of OLS: {}'.format(ols_r2))"
   ]
  },
  {
   "cell_type": "markdown",
   "id": "ea360113",
   "metadata": {},
   "source": [
    "## 2. Ridge Regression"
   ]
  },
  {
   "cell_type": "code",
   "execution_count": 113,
   "id": "91ed0137",
   "metadata": {},
   "outputs": [],
   "source": [
    "def ridge_regression(X_train, y_train, X_test):\n",
    "    \n",
    "    #fitting model on data\n",
    "    ridge_regressor = linear_model.Ridge(alpha = .5)\n",
    "    ridge_regressor.fit(X_train, y_train)\n",
    "\n",
    "    # predicting target for test set features\n",
    "    y_predicted = ridge_regressor.predict(X_test)\n",
    "\n",
    "    # model performance\n",
    "    ridge_r2 = r2_score(y_test, y_predicted)\n",
    "\n",
    "    # printing  metrics results\n",
    "    print('R2 score of Ridge Regression: {}'.format(ridge_r2))"
   ]
  },
  {
   "cell_type": "markdown",
   "id": "5387103f",
   "metadata": {},
   "source": [
    "## 3. Lasso Regression"
   ]
  },
  {
   "cell_type": "code",
   "execution_count": 114,
   "id": "5a59b87b",
   "metadata": {},
   "outputs": [],
   "source": [
    "def lasso_regression(X_train, y_train, X_test):\n",
    "    \n",
    "    lasso_regressor = linear_model.Lasso(alpha = 0.1)\n",
    "    lasso_regressor.fit(X_train, y_train)\n",
    "\n",
    "    y_predicted = lasso_regressor.predict(X_test)\n",
    "\n",
    "    lasso_r2 = r2_score(y_test, y_predicted)\n",
    "\n",
    "    # printing  metrics results\n",
    "    print('R2 score of Lasso Regression: {}'.format(lasso_r2))"
   ]
  },
  {
   "cell_type": "markdown",
   "id": "16df7d28",
   "metadata": {},
   "source": [
    "## 4. Support Vector Regression"
   ]
  },
  {
   "cell_type": "code",
   "execution_count": 115,
   "id": "9755a103",
   "metadata": {},
   "outputs": [],
   "source": [
    "def svr_regression(X_train, y_train, X_test):\n",
    "    \n",
    "    svr_regressor = svm.SVR()\n",
    "    svr_regressor.fit(X_train, y_train)\n",
    "    \n",
    "    y_predicted = svr_regressor.predict(X_test)\n",
    "    \n",
    "    svr_r2 = r2_score(y_test, y_predicted)\n",
    "    \n",
    "    # printing  metrics results\n",
    "    print('R2 score of SVR: {}'.format(svr_r2))"
   ]
  },
  {
   "cell_type": "markdown",
   "id": "992e6215",
   "metadata": {},
   "source": [
    "## 5. Decision Tree Regression\n"
   ]
  },
  {
   "cell_type": "code",
   "execution_count": 116,
   "id": "2b13a60f",
   "metadata": {},
   "outputs": [],
   "source": [
    "def decision_tree_regression(X_train, y_train, X_test):\n",
    "    \n",
    "    decision_tree_regressor = tree.DecisionTreeRegressor()\n",
    "    decision_tree_regressor.fit(X_train, y_train)\n",
    "    \n",
    "    decision_tree_regressor.predict(X_test)\n",
    "    \n",
    "    dtr_r2 = r2_score(y_test, y_predicted)\n",
    "    \n",
    "    print('R2 score of Decision Tree Regression: {}'.format(dtr_r2))"
   ]
  },
  {
   "cell_type": "markdown",
   "id": "fa32f3aa",
   "metadata": {},
   "source": [
    "## Main Block"
   ]
  },
  {
   "cell_type": "code",
   "execution_count": 117,
   "id": "8510c3d3",
   "metadata": {},
   "outputs": [],
   "source": [
    "def main():\n",
    "    \n",
    "    ols(X_train, y_train, X_test)\n",
    "    ridge_regression(X_train, y_train, X_test)\n",
    "    lasso_regression(X_train, y_train, X_test)\n",
    "    svr_regression(X_train, y_train, X_test)\n",
    "    decision_tree_regression(X_train, y_train, X_test)"
   ]
  },
  {
   "cell_type": "code",
   "execution_count": 118,
   "id": "b6cf7448",
   "metadata": {},
   "outputs": [
    {
     "name": "stdout",
     "output_type": "stream",
     "text": [
      "R2 score of OLS: 0.9298994694436788\n",
      "R2 score of Ridge Regression: 0.9298994821517521\n",
      "R2 score of Lasso Regression: 0.9299169910729692\n",
      "R2 score of SVR: 0.3888654448577421\n",
      "R2 score of Decision Tree Regression: 0.9298261180304993\n"
     ]
    }
   ],
   "source": [
    "main()"
   ]
  }
 ],
 "metadata": {
  "kernelspec": {
   "display_name": "Python 3 (ipykernel)",
   "language": "python",
   "name": "python3"
  },
  "language_info": {
   "codemirror_mode": {
    "name": "ipython",
    "version": 3
   },
   "file_extension": ".py",
   "mimetype": "text/x-python",
   "name": "python",
   "nbconvert_exporter": "python",
   "pygments_lexer": "ipython3",
   "version": "3.10.6"
  }
 },
 "nbformat": 4,
 "nbformat_minor": 5
}

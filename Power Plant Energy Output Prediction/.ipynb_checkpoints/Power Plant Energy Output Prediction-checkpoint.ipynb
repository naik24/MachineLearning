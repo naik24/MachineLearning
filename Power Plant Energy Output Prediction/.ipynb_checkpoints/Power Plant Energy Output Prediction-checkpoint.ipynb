{
 "cells": [
  {
   "cell_type": "markdown",
   "id": "d8509042",
   "metadata": {},
   "source": [
    "## Importing Libraries"
   ]
  },
  {
   "cell_type": "code",
   "execution_count": 1,
   "id": "c1da2355",
   "metadata": {},
   "outputs": [],
   "source": [
    "# data prerprocessing libraries\n",
    "import pandas as pd\n",
    "import numpy as np\n",
    "from sklearn.model_selection import train_test_split\n",
    "from sklearn.preprocessing import StandardScaler\n",
    "\n",
    "# machine learning libraries\n",
    "from sklearn.linear_model import LinearRegression\n",
    "from sklearn.svm import SVR\n",
    "from sklearn.tree import DecisionTreeRegressor\n",
    "from sklearn.ensemble import RandomForestRegressor\n",
    "from sklearn.model_selection import GridSearchCV\n",
    "from xgboost import XGBRegressor\n",
    "\n",
    "# metrics libraries\n",
    "from sklearn.metrics import r2_score\n",
    "from sklearn.metrics import mean_absolute_error\n",
    "\n",
    "# visualization libraries\n",
    "import matplotlib.pyplot as plt\n",
    "import seaborn as sns"
   ]
  },
  {
   "cell_type": "markdown",
   "id": "7b4312f7",
   "metadata": {},
   "source": [
    "## Data Processing"
   ]
  },
  {
   "cell_type": "code",
   "execution_count": 2,
   "id": "ab0e555d",
   "metadata": {},
   "outputs": [
    {
     "data": {
      "text/html": [
       "<div>\n",
       "<style scoped>\n",
       "    .dataframe tbody tr th:only-of-type {\n",
       "        vertical-align: middle;\n",
       "    }\n",
       "\n",
       "    .dataframe tbody tr th {\n",
       "        vertical-align: top;\n",
       "    }\n",
       "\n",
       "    .dataframe thead th {\n",
       "        text-align: right;\n",
       "    }\n",
       "</style>\n",
       "<table border=\"1\" class=\"dataframe\">\n",
       "  <thead>\n",
       "    <tr style=\"text-align: right;\">\n",
       "      <th></th>\n",
       "      <th>AT</th>\n",
       "      <th>V</th>\n",
       "      <th>AP</th>\n",
       "      <th>RH</th>\n",
       "      <th>PE</th>\n",
       "    </tr>\n",
       "  </thead>\n",
       "  <tbody>\n",
       "    <tr>\n",
       "      <th>0</th>\n",
       "      <td>8.34</td>\n",
       "      <td>40.77</td>\n",
       "      <td>1010.84</td>\n",
       "      <td>90.01</td>\n",
       "      <td>480.48</td>\n",
       "    </tr>\n",
       "    <tr>\n",
       "      <th>1</th>\n",
       "      <td>23.64</td>\n",
       "      <td>58.49</td>\n",
       "      <td>1011.40</td>\n",
       "      <td>74.20</td>\n",
       "      <td>445.75</td>\n",
       "    </tr>\n",
       "    <tr>\n",
       "      <th>2</th>\n",
       "      <td>29.74</td>\n",
       "      <td>56.90</td>\n",
       "      <td>1007.15</td>\n",
       "      <td>41.91</td>\n",
       "      <td>438.76</td>\n",
       "    </tr>\n",
       "    <tr>\n",
       "      <th>3</th>\n",
       "      <td>19.07</td>\n",
       "      <td>49.69</td>\n",
       "      <td>1007.22</td>\n",
       "      <td>76.79</td>\n",
       "      <td>453.09</td>\n",
       "    </tr>\n",
       "    <tr>\n",
       "      <th>4</th>\n",
       "      <td>11.80</td>\n",
       "      <td>40.66</td>\n",
       "      <td>1017.13</td>\n",
       "      <td>97.20</td>\n",
       "      <td>464.43</td>\n",
       "    </tr>\n",
       "  </tbody>\n",
       "</table>\n",
       "</div>"
      ],
      "text/plain": [
       "      AT      V       AP     RH      PE\n",
       "0   8.34  40.77  1010.84  90.01  480.48\n",
       "1  23.64  58.49  1011.40  74.20  445.75\n",
       "2  29.74  56.90  1007.15  41.91  438.76\n",
       "3  19.07  49.69  1007.22  76.79  453.09\n",
       "4  11.80  40.66  1017.13  97.20  464.43"
      ]
     },
     "execution_count": 2,
     "metadata": {},
     "output_type": "execute_result"
    }
   ],
   "source": [
    "# loading the data\n",
    "dataset = pd.read_csv('powerplantdata.csv')\n",
    "dataset.head()"
   ]
  },
  {
   "cell_type": "code",
   "execution_count": 3,
   "id": "e912d95f",
   "metadata": {},
   "outputs": [],
   "source": [
    "# splitting the dataset into features and target\n",
    "X = dataset.iloc[:, :-1].values\n",
    "y = dataset.iloc[:, -1].values"
   ]
  },
  {
   "cell_type": "code",
   "execution_count": 4,
   "id": "1e6483a8",
   "metadata": {},
   "outputs": [
    {
     "data": {
      "text/plain": [
       "array([[-1.51786152, -1.065205  , -0.40735691,  1.14394435],\n",
       "       [ 0.5352555 ,  0.32927685, -0.31305658,  0.06103098],\n",
       "       [ 1.35381849,  0.20415122, -1.02872873, -2.15068773],\n",
       "       ...,\n",
       "       [-0.49130301, -0.86295791,  0.15844507,  0.36652077],\n",
       "       [-0.26854652,  0.43787645,  0.89600837,  1.46176333],\n",
       "       [ 0.54062312, -0.23654282, -0.2355956 , -0.14171561]])"
      ]
     },
     "execution_count": 4,
     "metadata": {},
     "output_type": "execute_result"
    }
   ],
   "source": [
    "# standardizing the data\n",
    "scaler = StandardScaler()\n",
    "X = scaler.fit_transform(X)\n",
    "\n",
    "# data after standardization\n",
    "X"
   ]
  },
  {
   "cell_type": "code",
   "execution_count": 5,
   "id": "e31be0c0",
   "metadata": {},
   "outputs": [],
   "source": [
    "# splitting features and target into training and test set\n",
    "X_train, X_test, y_train, y_test = train_test_split(X, y, test_size = 0.2, random_state = 0)"
   ]
  },
  {
   "cell_type": "markdown",
   "id": "bb45e3ad",
   "metadata": {},
   "source": [
    "## Linear Regression"
   ]
  },
  {
   "cell_type": "code",
   "execution_count": 6,
   "id": "1f1bab12",
   "metadata": {},
   "outputs": [
    {
     "name": "stdout",
     "output_type": "stream",
     "text": [
      "R2 Score: 0.9298994694436788\n",
      "Mean Absolute Error (MAE): 3.630457657633138\n"
     ]
    }
   ],
   "source": [
    "# modelling\n",
    "linear_regressor = LinearRegression()\n",
    "linear_regressor.fit(X_train, y_train)\n",
    "\n",
    "# predicting\n",
    "ypred_linearRegression = linear_regressor.predict(X_test)\n",
    "\n",
    "# evaluation\n",
    "linearRegression_r2 = r2_score(y_test, ypred_linearRegression)\n",
    "print(f\"R2 Score: {linearRegression_r2}\")\n",
    "\n",
    "linearRegression_mae = mean_absolute_error(y_test, ypred_linearRegression)\n",
    "print(f\"Mean Absolute Error (MAE): {linearRegression_mae}\")"
   ]
  },
  {
   "cell_type": "markdown",
   "id": "16df7d28",
   "metadata": {},
   "source": [
    "## Support Vector Regression"
   ]
  },
  {
   "cell_type": "code",
   "execution_count": 7,
   "id": "9755a103",
   "metadata": {},
   "outputs": [
    {
     "name": "stdout",
     "output_type": "stream",
     "text": [
      "Best Parameters:  {'degree': 1, 'kernel': 'rbf'}\n",
      "R2 Score: 0.9399144198187595\n",
      "Mean Absolute Error (MAE): 3.243724596733692\n"
     ]
    }
   ],
   "source": [
    "# grid search\n",
    "svr = SVR()\n",
    "svr_params = {'kernel': ['linear', 'poly', 'rbf', 'sigmoid'],\n",
    "              'degree': [1, 3, 5]}\n",
    "scoring = {'r2', 'neg_mean_absolute_error'}\n",
    "svr_gridsearch = GridSearchCV(svr, svr_params, scoring = scoring, refit = 'neg_mean_absolute_error', cv = 5)\n",
    "\n",
    "# modelling\n",
    "svr_gridsearch.fit(X_train, y_train)\n",
    "print(\"Best Parameters: \", svr_gridsearch.best_params_)\n",
    "\n",
    "# predicting\n",
    "ypred_SVR = svr_gridsearch.predict(X_test)\n",
    "\n",
    "# evaluation\n",
    "svr_r2 = r2_score(y_test, ypred_SVR)\n",
    "print(f\"R2 Score: {svr_r2}\")\n",
    "\n",
    "svr_mae = mean_absolute_error(y_test, ypred_SVR)\n",
    "print(f\"Mean Absolute Error (MAE): {svr_mae}\")"
   ]
  },
  {
   "cell_type": "markdown",
   "id": "992e6215",
   "metadata": {},
   "source": [
    "## Decision Tree Regression\n"
   ]
  },
  {
   "cell_type": "code",
   "execution_count": 8,
   "id": "2b13a60f",
   "metadata": {},
   "outputs": [
    {
     "name": "stdout",
     "output_type": "stream",
     "text": [
      "Best Parameters:  {'criterion': 'friedman_mse', 'max_features': 'sqrt', 'min_samples_split': 3, 'splitter': 'best'}\n",
      "R2 Score: 0.9316469233468714\n",
      "Mean Absolute Error (MAE): 3.075381400208986\n"
     ]
    }
   ],
   "source": [
    "# grid search\n",
    "dtr = DecisionTreeRegressor()\n",
    "dtr_params = {'criterion': ['squared_error', 'friedman_mse', 'absolute_error', 'poisson'],\n",
    "              'splitter': ['random', 'best'],\n",
    "              'min_samples_split': [3, 0.5],\n",
    "              'max_features': [2, 0.5, 'sqrt', 'log2']}\n",
    "scoring = {'r2', 'neg_mean_absolute_error'}\n",
    "dtr_gridsearch = GridSearchCV(dtr, dtr_params, scoring = 'neg_mean_absolute_error', cv = 5)\n",
    "\n",
    "# modelling\n",
    "dtr_gridsearch.fit(X_train, y_train)\n",
    "print(\"Best Parameters: \", dtr_gridsearch.best_params_)\n",
    "\n",
    "# predicting\n",
    "ypred_DTR = dtr_gridsearch.predict(X_test)\n",
    "\n",
    "# evaluation\n",
    "dtr_r2 = r2_score(y_test, ypred_DTR)\n",
    "print(f\"R2 Score: {dtr_r2}\")\n",
    "\n",
    "dtr_mae = mean_absolute_error(y_test, ypred_DTR)\n",
    "print(f\"Mean Absolute Error (MAE): {dtr_mae}\")"
   ]
  },
  {
   "cell_type": "markdown",
   "id": "fa32f3aa",
   "metadata": {},
   "source": [
    "## Random Forest Regression"
   ]
  },
  {
   "cell_type": "code",
   "execution_count": 11,
   "id": "748c5415",
   "metadata": {},
   "outputs": [
    {
     "name": "stdout",
     "output_type": "stream",
     "text": [
      "Best Parameters:  {'max_depth': 5, 'min_samples_split': 3, 'n_estimators': 100}\n",
      "R2 Score: 0.9395283394768524\n",
      "Mean Absolute Error (MAE): 3.2807245334839754\n"
     ]
    }
   ],
   "source": [
    "# grid search\n",
    "rf = RandomForestRegressor()\n",
    "rf_params = {'n_estimators': [100, 200],\n",
    "             'min_samples_split': [3, 0.5],\n",
    "             'max_depth': [3, 5],\n",
    "             }\n",
    "rf_gridsearch = GridSearchCV(rf, rf_params, scoring = 'neg_mean_absolute_error', cv = 5)\n",
    "\n",
    "# modelling\n",
    "rf_gridsearch.fit(X_train, y_train)\n",
    "print(\"Best Parameters: \", rf_gridsearch.best_params_)\n",
    "\n",
    "# predicting\n",
    "ypred_RF = rf_gridsearch.predict(X_test)\n",
    "\n",
    "# evaluation\n",
    "rf_r2 = r2_score(y_test, ypred_RF)\n",
    "print(f\"R2 Score: {rf_r2}\")\n",
    "\n",
    "rf_mae = mean_absolute_error(y_test, ypred_RF)\n",
    "print(f\"Mean Absolute Error (MAE): {rf_mae}\")"
   ]
  },
  {
   "cell_type": "markdown",
   "id": "6f6e2bb8",
   "metadata": {},
   "source": [
    "## XGBoost"
   ]
  },
  {
   "cell_type": "code",
   "execution_count": 9,
   "id": "075f8ced",
   "metadata": {},
   "outputs": [
    {
     "name": "stdout",
     "output_type": "stream",
     "text": [
      "Best Parameters:  {'colsample_bytree': 1, 'eta': 0.1, 'max_depth': 7, 'n_estimators': 300, 'subsample': 1}\n",
      "R2 Score: 0.9701050030370023\n",
      "Mean Absolute Error (MAE): 2.1224856111373023\n"
     ]
    }
   ],
   "source": [
    "# grid search\n",
    "xgb = XGBRegressor()\n",
    "xgb_params = {'n_estimators': [100, 300],\n",
    "              'max_depth': [3, 5, 7],\n",
    "              'eta': [0.3, 0.1, 0.01],\n",
    "              'subsample': [0.5, 1],\n",
    "              'colsample_bytree': [0.5, 1]}\n",
    "xgb_gridsearch = GridSearchCV(xgb, xgb_params, scoring = 'neg_mean_absolute_error', cv = 5)\n",
    "\n",
    "# modelling\n",
    "xgb_gridsearch.fit(X_train, y_train)\n",
    "print(\"Best Parameters: \", xgb_gridsearch.best_params_)\n",
    "\n",
    "# predicting\n",
    "ypred_XGB = xgb_gridsearch.predict(X_test)\n",
    "\n",
    "# evaluation\n",
    "xgb_r2 = r2_score(y_test, ypred_XGB)\n",
    "print(f\"R2 Score: {xgb_r2}\")\n",
    "\n",
    "xgb_mae = mean_absolute_error(y_test, ypred_XGB)\n",
    "print(f\"Mean Absolute Error (MAE): {xgb_mae}\")"
   ]
  },
  {
   "cell_type": "markdown",
   "id": "fbe4c14f",
   "metadata": {},
   "source": [
    "## Visualizing Metrics"
   ]
  },
  {
   "cell_type": "code",
   "execution_count": 12,
   "id": "184b000b",
   "metadata": {},
   "outputs": [
    {
     "data": {
      "image/png": "[encoded data removed]",
      "text/plain": [
       "<Figure size 640x480 with 1 Axes>"
      ]
     },
     "metadata": {},
     "output_type": "display_data"
    },
    {
     "data": {
      "image/png": "[encoded data removed]",
      "text/plain": [
       "<Figure size 640x480 with 1 Axes>"
      ]
     },
     "metadata": {},
     "output_type": "display_data"
    }
   ],
   "source": [
    "# plotting R2 scores\n",
    "algorithms = [\"Linear Regression\", \"Support Vector Regression\", \"Decision Tree Regression\", \"Random Forest Regression\", \"XGBoost\"]\n",
    "r2_scores = [linearRegression_r2, svr_r2, dtr_r2, rf_r2, xgb_r2]\n",
    "sns.barplot(x = algorithms, y = r2_scores)\n",
    "plt.xticks(rotation = 90)\n",
    "plt.ylabel(\"R2 Score\")\n",
    "plt.show()\n",
    "\n",
    "# plotting MAE\n",
    "r2_scores = [linearRegression_mae, svr_mae, dtr_mae, rf_mae, xgb_mae]\n",
    "sns.barplot(x = algorithms, y = r2_scores)\n",
    "plt.xticks(rotation = 90)\n",
    "plt.ylabel(\"Mean Absolute Error (MAE)\")\n",
    "plt.show()"
   ]
  }
 ],
 "metadata": {
  "kernelspec": {
   "display_name": "Python 3 (ipykernel)",
   "language": "python",
   "name": "python3"
  },
  "language_info": {
   "codemirror_mode": {
    "name": "ipython",
    "version": 3
   },
   "file_extension": ".py",
   "mimetype": "text/x-python",
   "name": "python",
   "nbconvert_exporter": "python",
   "pygments_lexer": "ipython3",
   "version": "3.10.6"
  }
 },
 "nbformat": 4,
 "nbformat_minor": 5
}
